{
 "cells": [
  {
   "cell_type": "code",
   "execution_count": 1,
   "metadata": {},
   "outputs": [],
   "source": [
    "import numpy as np\n",
    "import matplotlib.pyplot as plt\n",
    "from scipy import stats"
   ]
  },
  {
   "cell_type": "code",
   "execution_count": 14,
   "metadata": {},
   "outputs": [],
   "source": [
    "Coh_ans=np.load('Coh_ans.npy')\n",
    "RT=np.load('RT.npy')\n",
    "Switch=np.load('Switch (Zero-one).npy')\n",
    "motion=np.load('motion.npy')\n",
    "ans=np.load('Total_ans.npy')\n",
    "Coh=np.load('Coh.npy')\n",
    "Conf=np.load('Conf.npy')\n",
    "# ans2=np.load('total_answerI.npy')\n",
    "Envans=np.load('Envans.npy')\n",
    "envexp=np.load('envexp.npy')\n"
   ]
  },
  {
   "cell_type": "code",
   "execution_count": null,
   "metadata": {},
   "outputs": [],
   "source": []
  },
  {
   "cell_type": "code",
   "execution_count": 3,
   "metadata": {},
   "outputs": [
    {
     "name": "stdout",
     "output_type": "stream",
     "text": [
      "[0 0 1 0 0 0 0]\n",
      "[ True False False False  True  True  True]\n",
      "[ 0.   3.2  3.2  3.2  3.2 51.2  0. ]\n",
      "[ 1  1 -1 -1 -1 -1 -1]\n",
      "[-1 -1 -1 -1 -1 -1 -1]\n"
     ]
    }
   ],
   "source": [
    "i=76-3\n",
    "j=76+4\n",
    "ans [i:j]\n",
    "print(Switch[i:j])\n",
    "print(ans [i:j])\n",
    "print(Coh [i:j])\n",
    "print(Envans [i:j])\n",
    "print(envexp [i:j])"
   ]
  },
  {
   "cell_type": "code",
   "execution_count": 15,
   "metadata": {},
   "outputs": [
    {
     "name": "stdout",
     "output_type": "stream",
     "text": [
      "0.4 0.6000000000000001\n"
     ]
    },
    {
     "data": {
      "text/plain": [
       "12"
      ]
     },
     "execution_count": 15,
     "metadata": {},
     "output_type": "execute_result"
    }
   ],
   "source": [
    "i=2\n",
    "pre= (i)* 0.2\n",
    "pos= (i+1)* 0.2\n",
    "print(pre , pos)\n",
    "temp1R=[]\n",
    "for i in range (len(ans )-1):\n",
    "    if (ans [i]==True and Switch[i+1]==1 and   pos>Conf[i]> pre ):\n",
    "        temp1R.append(Conf [i])\n",
    "temp1R=np.array(temp1R)\n",
    "len(temp1R)\n",
    "# temp"
   ]
  },
  {
   "cell_type": "code",
   "execution_count": 16,
   "metadata": {},
   "outputs": [
    {
     "data": {
      "text/plain": [
       "773"
      ]
     },
     "execution_count": 16,
     "metadata": {},
     "output_type": "execute_result"
    }
   ],
   "source": [
    "temp11R=[]\n",
    "for i in range (len(ans )-1):\n",
    "    if (ans [i]==True  and Switch[i+1]==0 and  pos>Conf[i]> pre  ):\n",
    "        temp11R.append(Conf [i])\n",
    "temp11R=np.array(temp11R)\n",
    "len(temp11R)\n",
    "# temp"
   ]
  },
  {
   "cell_type": "code",
   "execution_count": 20,
   "metadata": {},
   "outputs": [
    {
     "name": "stdout",
     "output_type": "stream",
     "text": [
      "0.0 0.2\n",
      "409\n",
      "2\n",
      "0.004807692307692308\n",
      "0.2 0.4\n",
      "757\n",
      "9\n",
      "0.011673151750972763\n",
      "0.4 0.6000000000000001\n",
      "773\n",
      "12\n",
      "0.015189873417721518\n",
      "0.6000000000000001 0.8\n",
      "1323\n",
      "20\n",
      "0.01483679525222552\n",
      "0.8 1.0\n",
      "2487\n",
      "24\n",
      "0.009538950715421303\n",
      "1.0 1.2000000000000002\n",
      "211\n",
      "3\n",
      "0.0136986301369863\n"
     ]
    },
    {
     "data": {
      "text/plain": [
       "6"
      ]
     },
     "execution_count": 20,
     "metadata": {},
     "output_type": "execute_result"
    }
   ],
   "source": [
    "prob=[]\n",
    "i=3\n",
    "pre= (i)* 0.2\n",
    "pos= (i+1)* 0.2\n",
    "\n",
    "temp1R=[]\n",
    "temp11R=[]\n",
    "# prob1=[]\n",
    "for j in range(6):\n",
    "    pre= (j)* 0.2\n",
    "    pos= (j+1)* 0.2\n",
    "    print(pre , pos)\n",
    "    temp1R=[]\n",
    "    temp11R=[]\n",
    "    for i in range (len(ans )-1):\n",
    "        if (ans [i]==True and Switch[i+1]==1 and   pos>Conf[i]> pre ):\n",
    "            temp1R.append(Conf [i])\n",
    "\n",
    "    for i in range (len(ans )-1):\n",
    "        if (ans [i]==True and Switch[i+1]==0 and  pos>Conf[i]> pre  ):\n",
    "            temp11R.append(Conf [i])\n",
    "    temp11R=np.array(temp11R)\n",
    "    temp1R=np.array(temp1R)\n",
    "    print(len(temp11R))\n",
    "    print(len(temp1R))\n",
    "    # temp\n",
    "    \n",
    "    x=(len(temp1R)/(len(temp1R)+len(temp11R)+5))\n",
    "    print(x)\n",
    "    prob.append(x)\n",
    "len(prob)\n",
    "# temp"
   ]
  },
  {
   "cell_type": "code",
   "execution_count": 21,
   "metadata": {},
   "outputs": [
    {
     "name": "stdout",
     "output_type": "stream",
     "text": [
      "0.0 0.2\n",
      "229\n",
      "38\n",
      "0.13970588235294118\n",
      "0.2 0.4\n",
      "349\n",
      "105\n",
      "0.22875816993464052\n",
      "0.4 0.6000000000000001\n",
      "283\n",
      "102\n",
      "0.26153846153846155\n",
      "0.6000000000000001 0.8\n",
      "263\n",
      "218\n",
      "0.448559670781893\n",
      "0.8 1.0\n",
      "151\n",
      "399\n",
      "0.7189189189189189\n",
      "1.0 1.2000000000000002\n",
      "6\n",
      "38\n",
      "0.7755102040816326\n"
     ]
    },
    {
     "data": {
      "text/plain": [
       "6"
      ]
     },
     "execution_count": 21,
     "metadata": {},
     "output_type": "execute_result"
    }
   ],
   "source": [
    "i=3\n",
    "pre= (i)* 0.2\n",
    "pos= (i+1)* 0.2\n",
    "\n",
    "temp1R=[]\n",
    "temp11R=[]\n",
    "prob1=[]\n",
    "for j in range(6):\n",
    "    pre= (j)* 0.2\n",
    "    pos= (j+1)* 0.2\n",
    "    print(pre , pos)\n",
    "    temp1R=[]\n",
    "    temp11R=[]\n",
    "    for i in range (len(ans )-1):\n",
    "        if (ans [i-1]==True and ans [i]==False and Switch[i+1]==1 and   pos>Conf[i]> pre ):\n",
    "            temp1R.append(Conf [i])\n",
    "\n",
    "    for i in range (len(ans )-1):\n",
    "        if (ans [i-1]==True and ans [i]==False and Switch[i]==0 and Switch[i+1]==0 and  pos>Conf[i]> pre  ):\n",
    "            temp11R.append(Conf [i])\n",
    "    temp11R=np.array(temp11R)\n",
    "    temp1R=np.array(temp1R)\n",
    "    print(len(temp11R))\n",
    "    print(len(temp1R))\n",
    "    # temp\n",
    "    \n",
    "    x=(len(temp1R)/(len(temp1R)+len(temp11R)+5))\n",
    "    print(x)\n",
    "    prob1.append(x)\n",
    "len(prob1)\n",
    "# temp"
   ]
  },
  {
   "cell_type": "code",
   "execution_count": 24,
   "metadata": {},
   "outputs": [
    {
     "data": {
      "text/plain": [
       "array([1.02159635, 1.00867857, 1.04888743, 1.00867857, 1.0397904 ,\n",
       "       1.06326074, 1.00867857, 1.06708149, 1.02159635, 1.02159635,\n",
       "       1.04506668, 1.06326074, 1.01777559, 1.07235777, 1.04888743,\n",
       "       1.03596965, 1.00867857, 1.03596965, 1.04888743, 1.0397904 ,\n",
       "       1.00599471, 1.00599471, 1.08119722, 1.08119722, 1.03822436,\n",
       "       1.02748115, 1.04896758, 1.03822436, 1.02748115, 1.08119722,\n",
       "       1.05971079, 1.04896758, 1.03822436, 1.00599471, 1.07045401,\n",
       "       1.02748115, 1.01673793, 1.00599471])"
      ]
     },
     "execution_count": 24,
     "metadata": {},
     "output_type": "execute_result"
    }
   ],
   "source": [
    "temp1R"
   ]
  },
  {
   "cell_type": "code",
   "execution_count": 5,
   "metadata": {},
   "outputs": [
    {
     "data": {
      "text/plain": [
       "6"
      ]
     },
     "execution_count": 5,
     "metadata": {},
     "output_type": "execute_result"
    }
   ],
   "source": [
    "temp11R=[]\n",
    "for i in range (len(ans )-1):\n",
    "    if (ans [i-1]==True and ans [i]==False and Switch[i]==0 and Switch[i+1]==0 and  pos>Conf[i]> pre  ):\n",
    "        temp11R.append(Conf [i])\n",
    "temp11R=np.array(temp11R)\n",
    "len(temp11R)\n",
    "# temp"
   ]
  },
  {
   "cell_type": "code",
   "execution_count": 11,
   "metadata": {},
   "outputs": [
    {
     "data": {
      "text/plain": [
       "0.7755102040816326"
      ]
     },
     "execution_count": 11,
     "metadata": {},
     "output_type": "execute_result"
    }
   ],
   "source": [
    "x=(len(temp1R)/(len(temp1R)+len(temp11R)+5))\n",
    "x"
   ]
  },
  {
   "cell_type": "code",
   "execution_count": 19,
   "metadata": {},
   "outputs": [
    {
     "data": {
      "text/plain": [
       "[0.004807692307692308,\n",
       " 0.011673151750972763,\n",
       " 0.015189873417721518,\n",
       " 0.01483679525222552,\n",
       " 0.009538950715421303,\n",
       " 0.0136986301369863,\n",
       " 0.7755102040816326]"
      ]
     },
     "execution_count": 19,
     "metadata": {},
     "output_type": "execute_result"
    }
   ],
   "source": [
    "x=(len(temp1R)/(len(temp1R)+len(temp11R)+5))\n",
    "prob.append(x)\n",
    "prob"
   ]
  },
  {
   "cell_type": "code",
   "execution_count": 30,
   "metadata": {},
   "outputs": [
    {
     "data": {
      "text/plain": [
       "[0.004807692307692308,\n",
       " 0.011673151750972763,\n",
       " 0.015189873417721518,\n",
       " 0.01483679525222552,\n",
       " 0.009538950715421303,\n",
       " 0.0136986301369863]"
      ]
     },
     "execution_count": 30,
     "metadata": {},
     "output_type": "execute_result"
    }
   ],
   "source": [
    "prob"
   ]
  },
  {
   "cell_type": "code",
   "execution_count": 41,
   "metadata": {},
   "outputs": [
    {
     "data": {
      "text/plain": [
       "<matplotlib.legend.Legend at 0x155f0cb3220>"
      ]
     },
     "execution_count": 41,
     "metadata": {},
     "output_type": "execute_result"
    },
    {
     "data": {
      "image/png": "[encoded data removed]",
      "text/plain": [
       "<Figure size 640x480 with 1 Axes>"
      ]
     },
     "metadata": {},
     "output_type": "display_data"
    }
   ],
   "source": [
    "import scipy\n",
    "err=np.array([.05,.052,.0451,.0351,.0215,.0152])\n",
    "plt.plot([1,2,3,4,5,6],prob,'ko',label='CORRECT T-1')\n",
    "plt.errorbar([1,2,3,4,5,6], prob1, yerr=[err], fmt='o',color = '#101010',linewidth=2,label='agree SEM')\n",
    "plt.plot([1,2,3,4,5,6],prob1,'-k')\n",
    "plt.plot([1,2,3,4,5,6],prob,'-k')\n",
    "plt.plot([1,2,3,4,5,6],prob1,'o', color='#000000',\n",
    "          linewidth=3,\n",
    "         markerfacecolor='#ffffff',markersize=10, markeredgecolor='#000000',label='ERROR T-1')\n",
    "plt.suptitle('All  Subject')\n",
    "plt.ylabel('Pr (Switch trial T)')\n",
    "plt.xlabel('Confidence Level')\n",
    "plt.savefig('output.png')\n",
    "plt.legend()\n",
    "# plt.ylim(0,.8)\n",
    "# plt.xlim(-0.02,5)"
   ]
  },
  {
   "cell_type": "code",
   "execution_count": 44,
   "metadata": {},
   "outputs": [
    {
     "data": {
      "text/plain": [
       "0.07352941176470588"
      ]
     },
     "execution_count": 44,
     "metadata": {},
     "output_type": "execute_result"
    }
   ],
   "source": [
    ".05/.68"
   ]
  },
  {
   "cell_type": "code",
   "execution_count": 7,
   "metadata": {},
   "outputs": [
    {
     "data": {
      "text/plain": [
       "663"
      ]
     },
     "execution_count": 7,
     "metadata": {},
     "output_type": "execute_result"
    }
   ],
   "source": [
    "temp2R=[]\n",
    "hist2=[]\n",
    "for i in range (len(ans )-1):\n",
    "    ts=[]\n",
    "    if (ans [i-2]==True and ans [i-1]==False and ans [i]==False and Switch[i+1]==1 ):\n",
    "#         print(i , Coh [i])\n",
    "        temp2R.append(Conf[i])\n",
    "        ts.append(Conf[i-1])\n",
    "        ts.append(Conf[i])\n",
    "        hist2.append(ts)\n",
    "temp2R=np.array(temp2R)\n",
    "len(hist2)\n",
    "# temp"
   ]
  },
  {
   "cell_type": "code",
   "execution_count": 8,
   "metadata": {},
   "outputs": [
    {
     "data": {
      "text/plain": [
       "217"
      ]
     },
     "execution_count": 8,
     "metadata": {},
     "output_type": "execute_result"
    }
   ],
   "source": [
    "temp12R=[]\n",
    "for i in range (len(ans )-1):\n",
    "    if (ans [i-2]==True and ans [i-1]==False  and ans [i]==False and Switch[i-1]==0 and Switch[i]==0  and Switch[i+1]==0):\n",
    "#         print(i , Coh [i])\n",
    "        temp12R.append(Conf[i])\n",
    "temp12R=np.array(temp12R)\n",
    "len(temp12R)\n",
    "# temp"
   ]
  },
  {
   "cell_type": "code",
   "execution_count": 18,
   "metadata": {},
   "outputs": [
    {
     "data": {
      "text/plain": [
       "246"
      ]
     },
     "execution_count": 18,
     "metadata": {},
     "output_type": "execute_result"
    }
   ],
   "source": [
    "temp3R=[]\n",
    "hist3=[]\n",
    "for i in range (len(ans )-1):\n",
    "    ts=[]\n",
    "    if (ans [i-3]==True and ans [i-2]==False and ans [i-1]==False and ans [i]==False and Switch[i+1]==1 ):\n",
    "        temp3R.append(Conf[i])\n",
    "        ts.append(Conf[i-2])\n",
    "        ts.append(Conf[i-1])\n",
    "        ts.append(Conf[i])\n",
    "        hist3.append(ts)\n",
    "temp3R=np.array(temp3R)\n",
    "len(hist3)\n",
    "# temp"
   ]
  },
  {
   "cell_type": "code",
   "execution_count": 19,
   "metadata": {},
   "outputs": [
    {
     "data": {
      "text/plain": [
       "37"
      ]
     },
     "execution_count": 19,
     "metadata": {},
     "output_type": "execute_result"
    }
   ],
   "source": [
    "temp13R=[]\n",
    "for i in range (len(ans )-1):\n",
    "    if (ans [i-3]==True and ans [i-2]==False and ans [i-1]==False  and ans [i]==False and Switch[i-2]==0 and Switch[i-1]==0 and Switch[i]==0   and Switch[i+1]==0  ):\n",
    "        temp13R.append(Conf[i])\n",
    "temp13R=np.array(temp13R)\n",
    "len(temp13R)\n",
    "# temp"
   ]
  },
  {
   "cell_type": "code",
   "execution_count": 10,
   "metadata": {},
   "outputs": [
    {
     "data": {
      "text/plain": [
       "96"
      ]
     },
     "execution_count": 10,
     "metadata": {},
     "output_type": "execute_result"
    }
   ],
   "source": [
    "temp4R=[]\n",
    "hist4=[]\n",
    "for i in range (len(ans )-1):\n",
    "    ts=[]\n",
    "    if (ans [i-4]==True and ans [i-3]==False and ans [i-2]==False and ans [i-1]==False and ans [i]==False and Switch[i+1]==1 ):\n",
    "        temp4R.append(Conf[i])\n",
    "        ts.append(Conf[i-3])\n",
    "        ts.append(Conf[i-2])\n",
    "        ts.append(Conf[i-1])\n",
    "        ts.append(Conf[i])\n",
    "        hist4.append(ts)\n",
    "temp4R=np.array(temp4R)\n",
    "len(temp4R)\n",
    "# temp"
   ]
  },
  {
   "cell_type": "code",
   "execution_count": 11,
   "metadata": {},
   "outputs": [
    {
     "data": {
      "text/plain": [
       "8"
      ]
     },
     "execution_count": 11,
     "metadata": {},
     "output_type": "execute_result"
    }
   ],
   "source": [
    "temp14R=[]\n",
    "\n",
    "for i in range (len(ans )-1):\n",
    "    \n",
    "    if (ans [i-4]==True and ans [i-3]==False  and ans [i-2]==False and ans [i-1]==False  and ans [i]==False and Switch[i-3]==0 and Switch[i-2]==0 and Switch[i-1]==0 and Switch[i]==0   and Switch[i+1]==0 ):\n",
    "        temp14R.append(Conf[i])\n",
    "temp14R=np.array(temp14R)\n",
    "len(temp14R)\n",
    "# temp"
   ]
  },
  {
   "cell_type": "code",
   "execution_count": 24,
   "metadata": {},
   "outputs": [
    {
     "data": {
      "text/plain": [
       "42"
      ]
     },
     "execution_count": 24,
     "metadata": {},
     "output_type": "execute_result"
    }
   ],
   "source": [
    "temp5R=[]\n",
    "hist5=[]\n",
    "for i in range (len(ans )-1):\n",
    "    ts=[]\n",
    "    if (ans [i-5]==True and ans [i-4]==False and ans [i-3]==False and ans [i-2]==False and ans [i-1]==False and ans [i]==False and Switch[i+1]==1 ):\n",
    "        temp5R.append(Conf[i])\n",
    "        ts.append(Conf[i-4])\n",
    "        ts.append(Conf[i-3])\n",
    "        ts.append(Conf[i-2])\n",
    "        ts.append(Conf[i-1])\n",
    "        ts.append(Conf[i])\n",
    "        hist5.append(ts)\n",
    "temp5R=np.array(temp5R)\n",
    "len(hist5)\n",
    "# temp"
   ]
  },
  {
   "cell_type": "code",
   "execution_count": 25,
   "metadata": {},
   "outputs": [
    {
     "data": {
      "text/plain": [
       "2"
      ]
     },
     "execution_count": 25,
     "metadata": {},
     "output_type": "execute_result"
    }
   ],
   "source": [
    "temp15R=[]\n",
    "for i in range (len(ans )-1):\n",
    "    if (ans [i-5]==True and ans [i-4]==False and ans [i-3]==False  and ans [i-2]==False and ans [i-1]==False  and ans [i]==False and Switch[i-4]==0 and Switch[i-3]==0 and Switch[i-2]==0 and Switch[i-1]==0 and Switch[i]==0   and Switch[i+1]==0 ):\n",
    "        temp15R.append(Conf[i])\n",
    "temp15R=np.array(temp15R)\n",
    "len(temp15R)\n",
    "# temp"
   ]
  },
  {
   "cell_type": "code",
   "execution_count": 26,
   "metadata": {},
   "outputs": [
    {
     "data": {
      "text/plain": [
       "23"
      ]
     },
     "execution_count": 26,
     "metadata": {},
     "output_type": "execute_result"
    }
   ],
   "source": [
    "temp6R=[]\n",
    "hist6=[]\n",
    "for i in range (len(ans )-1):\n",
    "    ts=[]\n",
    "    if (ans [i-6]==True and ans [i-5]==False and ans [i-4]==False and ans [i-3]==False and ans [i-2]==False and ans [i-1]==False and ans [i]==False and Switch[i+1]==1 ):\n",
    "        temp6R.append(Conf[i])\n",
    "        ts.append(Conf[i-5])\n",
    "        ts.append(Conf[i-4])\n",
    "        ts.append(Conf[i-3])\n",
    "        ts.append(Conf[i-2])\n",
    "        ts.append(Conf[i-1])\n",
    "        ts.append(Conf[i])\n",
    "        hist6.append(ts)\n",
    "temp6R=np.array(temp6R)\n",
    "len(hist6)\n",
    "# temp"
   ]
  },
  {
   "cell_type": "code",
   "execution_count": 14,
   "metadata": {},
   "outputs": [
    {
     "data": {
      "text/plain": [
       "0"
      ]
     },
     "execution_count": 14,
     "metadata": {},
     "output_type": "execute_result"
    }
   ],
   "source": [
    "temp16R=[]\n",
    "for i in range (len(ans )-1):\n",
    "    if (ans [i-6]==True and ans [i-5]==False  and ans [i-4]==False and ans [i-3]==False  and ans [i-2]==False and ans [i-1]==False  and ans [i]==False and Switch[i-5]==0  and Switch[i-4]==0 and Switch[i-3]==0 and Switch[i-2]==0 and Switch[i-1]==0 and Switch[i]==0   and Switch[i+1]==0 ):\n",
    "        temp16R.append(Conf[i])\n",
    "temp16R=np.array(temp16R)\n",
    "len(temp16R)\n",
    "# temp"
   ]
  },
  {
   "cell_type": "code",
   "execution_count": null,
   "metadata": {},
   "outputs": [],
   "source": []
  },
  {
   "cell_type": "code",
   "execution_count": 34,
   "metadata": {},
   "outputs": [
    {
     "data": {
      "text/plain": [
       "0.5752706320293941"
      ]
     },
     "execution_count": 34,
     "metadata": {},
     "output_type": "execute_result"
    }
   ],
   "source": [
    "hist2=np.array(hist2)\n",
    "hist2.mean()"
   ]
  },
  {
   "cell_type": "code",
   "execution_count": 28,
   "metadata": {},
   "outputs": [
    {
     "data": {
      "text/plain": [
       "0.7602288522930466"
      ]
     },
     "execution_count": 28,
     "metadata": {},
     "output_type": "execute_result"
    }
   ],
   "source": [
    "temp6R.mean()"
   ]
  },
  {
   "cell_type": "code",
   "execution_count": 27,
   "metadata": {},
   "outputs": [
    {
     "data": {
      "text/plain": [
       "0.6445092776279774"
      ]
     },
     "execution_count": 27,
     "metadata": {},
     "output_type": "execute_result"
    }
   ],
   "source": [
    "temp5R.mean()"
   ]
  },
  {
   "cell_type": "code",
   "execution_count": 16,
   "metadata": {},
   "outputs": [
    {
     "data": {
      "text/plain": [
       "0.6373809569399129"
      ]
     },
     "execution_count": 16,
     "metadata": {},
     "output_type": "execute_result"
    }
   ],
   "source": [
    "temp4R.mean()"
   ]
  },
  {
   "cell_type": "code",
   "execution_count": 20,
   "metadata": {},
   "outputs": [
    {
     "data": {
      "text/plain": [
       "0.6317604591867609"
      ]
     },
     "execution_count": 20,
     "metadata": {},
     "output_type": "execute_result"
    }
   ],
   "source": [
    "temp3R.mean()"
   ]
  },
  {
   "cell_type": "code",
   "execution_count": 21,
   "metadata": {},
   "outputs": [
    {
     "data": {
      "text/plain": [
       "0.6745509526001845"
      ]
     },
     "execution_count": 21,
     "metadata": {},
     "output_type": "execute_result"
    }
   ],
   "source": [
    "temp2R.mean()"
   ]
  },
  {
   "cell_type": "code",
   "execution_count": 22,
   "metadata": {},
   "outputs": [
    {
     "data": {
      "text/plain": [
       "0.6862125481265247"
      ]
     },
     "execution_count": 22,
     "metadata": {},
     "output_type": "execute_result"
    }
   ],
   "source": [
    "temp1R.mean()"
   ]
  },
  {
   "cell_type": "code",
   "execution_count": 54,
   "metadata": {},
   "outputs": [
    {
     "data": {
      "text/plain": [
       "943.6591304347826"
      ]
     },
     "execution_count": 54,
     "metadata": {},
     "output_type": "execute_result"
    }
   ],
   "source": [
    "RT.mean()"
   ]
  },
  {
   "cell_type": "code",
   "execution_count": 36,
   "metadata": {},
   "outputs": [
    {
     "data": {
      "text/plain": [
       "0.43290019127394197"
      ]
     },
     "execution_count": 36,
     "metadata": {},
     "output_type": "execute_result"
    }
   ],
   "source": [
    "temp11R.mean()"
   ]
  },
  {
   "cell_type": "code",
   "execution_count": 37,
   "metadata": {},
   "outputs": [
    {
     "data": {
      "text/plain": [
       "0.4103259461658677"
      ]
     },
     "execution_count": 37,
     "metadata": {},
     "output_type": "execute_result"
    }
   ],
   "source": [
    "temp12R.mean()"
   ]
  },
  {
   "cell_type": "code",
   "execution_count": 38,
   "metadata": {},
   "outputs": [
    {
     "data": {
      "text/plain": [
       "0.4416024385537652"
      ]
     },
     "execution_count": 38,
     "metadata": {},
     "output_type": "execute_result"
    }
   ],
   "source": [
    "temp13R.mean()"
   ]
  },
  {
   "cell_type": "code",
   "execution_count": 42,
   "metadata": {},
   "outputs": [
    {
     "data": {
      "text/plain": [
       "0.6445092776279774"
      ]
     },
     "execution_count": 42,
     "metadata": {},
     "output_type": "execute_result"
    }
   ],
   "source": [
    "temp5R.mean()"
   ]
  },
  {
   "cell_type": "code",
   "execution_count": 53,
   "metadata": {},
   "outputs": [
    {
     "data": {
      "text/plain": [
       "<matplotlib.legend.Legend at 0x1a36a3a5390>"
      ]
     },
     "execution_count": 53,
     "metadata": {},
     "output_type": "execute_result"
    },
    {
     "data": {
      "image/png": "[encoded data removed]",
      "text/plain": [
       "<Figure size 432x288 with 1 Axes>"
      ]
     },
     "metadata": {
      "needs_background": "light"
     },
     "output_type": "display_data"
    }
   ],
   "source": [
    "\n",
    "plt.bar( ['1 err'],[temp1R.mean()],color = '#a6c7f9',label='Switch 1-T')\n",
    "plt.bar( ['2 err'],[temp2R.mean()],color = '#88b5fa',label='Switch 2-T')\n",
    "plt.bar( ['3 err'],[temp3R.mean()],color = '#6696de',label='Switch 3-T')\n",
    "plt.bar( ['4 err'],[temp4R.mean()],color = '#5d83be',label='Switch 4-T')\n",
    "# plt.bar( ['5 err'],[temp5R.mean()],color = '#456699',label='Total 5-T')\n",
    "# plt.bar( ['6 err'],[temp6R.mean()],color = '#222899',label='Total 6-T')\n",
    "plt.bar( ['1 err'],[temp11R.mean()],color = '#111123',label='Not Switch 1-T')\n",
    "plt.bar( ['2 err'],[temp12R.mean()],color = '#111123',label='Not Switch 2-T')\n",
    "plt.bar( ['3 err'],[temp13R.mean()],color = '#111123',label='Not Switch 3-T')\n",
    "plt.bar( ['4 err'],[temp14R.mean()],color = '#111123',label='Not Switch 4-T')\n",
    "# plt.bar( ['5 err'],[temp14R[2]],color = '#111123',label='Switch 5-T')\n",
    "# plt.bar( ['6 err'],[temp16R.mean()],color = '#111123',label='Switch 6-T')\n",
    "plt.axhline(Conf.mean(),c=\"r\",label='mean overall onfidence')\n",
    "plt.suptitle('All  Subject')\n",
    "plt.ylabel('Confidence')\n",
    "plt.xlabel('Consecutive errors')\n",
    "plt.legend(loc=\"lower center\", bbox_to_anchor=(0.5, 1.15), ncol=2)"
   ]
  },
  {
   "cell_type": "code",
   "execution_count": 63,
   "metadata": {},
   "outputs": [
    {
     "data": {
      "text/plain": [
       "[<matplotlib.lines.Line2D at 0x1a36a71deb8>]"
      ]
     },
     "execution_count": 63,
     "metadata": {},
     "output_type": "execute_result"
    },
    {
     "data": {
      "image/png": "[encoded data removed]",
      "text/plain": [
       "<Figure size 432x288 with 1 Axes>"
      ]
     },
     "metadata": {
      "needs_background": "light"
     },
     "output_type": "display_data"
    }
   ],
   "source": [
    "plt.plot(hist4[9])"
   ]
  },
  {
   "cell_type": "code",
   "execution_count": 74,
   "metadata": {},
   "outputs": [
    {
     "data": {
      "text/plain": [
       "array([0.67590925, 0.67590925, 1.04888743])"
      ]
     },
     "execution_count": 74,
     "metadata": {},
     "output_type": "execute_result"
    }
   ],
   "source": [
    "hist3[1]"
   ]
  },
  {
   "cell_type": "code",
   "execution_count": 77,
   "metadata": {},
   "outputs": [],
   "source": [
    "a=[]\n",
    "b=[]\n",
    "for j in range (len(hist2)):\n",
    "    a.append(hist2[j][0])\n",
    "#     a.append(hist3[j][1])\n",
    "#     a.append(hist3[j][2])\n",
    "    b.append(hist2[j][-1])\n",
    "    \n",
    "a = np.array(a)\n",
    "b = np.array(b)"
   ]
  },
  {
   "cell_type": "code",
   "execution_count": 78,
   "metadata": {},
   "outputs": [
    {
     "data": {
      "text/plain": [
       "<matplotlib.legend.Legend at 0x1a36bacbc50>"
      ]
     },
     "execution_count": 78,
     "metadata": {},
     "output_type": "execute_result"
    },
    {
     "data": {
      "image/png": "[encoded data removed]",
      "text/plain": [
       "<Figure size 432x288 with 1 Axes>"
      ]
     },
     "metadata": {
      "needs_background": "light"
     },
     "output_type": "display_data"
    }
   ],
   "source": [
    "plt.bar( ['1 trials before'],[a.mean()],color = '#a6c7f9',label='mean of  T-2')\n",
    "plt.bar( ['switch'],[b.mean()],color = '#88b5fa',label='mean of  T-1')\n",
    "plt.axhline(Conf.mean(),c=\"r\",label='mean overall onfidence')\n",
    "plt.suptitle('Trials that switched')\n",
    "plt.ylabel('Confidence')\n",
    "plt.xlabel('2 Consecutive errors')\n",
    "plt.legend(loc=\"lower center\", bbox_to_anchor=(0.5, 1.15), ncol=2)"
   ]
  },
  {
   "cell_type": "code",
   "execution_count": 25,
   "metadata": {},
   "outputs": [
    {
     "ename": "TypeError",
     "evalue": "object of type 'numpy.float64' has no len()",
     "output_type": "error",
     "traceback": [
      "\u001b[1;31m---------------------------------------------------------------------------\u001b[0m",
      "\u001b[1;31mTypeError\u001b[0m                                 Traceback (most recent call last)",
      "\u001b[1;32m<ipython-input-25-485f7446781f>\u001b[0m in \u001b[0;36m<module>\u001b[1;34m\u001b[0m\n\u001b[0;32m      1\u001b[0m \u001b[1;32mfor\u001b[0m \u001b[0mh\u001b[0m \u001b[1;32min\u001b[0m \u001b[0mrange\u001b[0m \u001b[1;33m(\u001b[0m\u001b[0mlen\u001b[0m\u001b[1;33m(\u001b[0m\u001b[0mhist6\u001b[0m\u001b[1;33m)\u001b[0m\u001b[1;33m)\u001b[0m\u001b[1;33m:\u001b[0m\u001b[1;33m\u001b[0m\u001b[1;33m\u001b[0m\u001b[0m\n\u001b[1;32m----> 2\u001b[1;33m     \u001b[0mplt\u001b[0m\u001b[1;33m.\u001b[0m\u001b[0mplot\u001b[0m\u001b[1;33m(\u001b[0m\u001b[0mhist6\u001b[0m\u001b[1;33m[\u001b[0m\u001b[0mh\u001b[0m\u001b[1;33m]\u001b[0m\u001b[1;33m[\u001b[0m\u001b[1;36m0\u001b[0m\u001b[1;33m]\u001b[0m\u001b[1;33m,\u001b[0m\u001b[0mh\u001b[0m\u001b[1;33m+\u001b[0m\u001b[1;36m1\u001b[0m\u001b[1;33m,\u001b[0m\u001b[1;34m'bx'\u001b[0m\u001b[1;33m,\u001b[0m\u001b[0mmarkersize\u001b[0m\u001b[1;33m=\u001b[0m\u001b[1;36m14\u001b[0m\u001b[1;33m)\u001b[0m\u001b[1;33m\u001b[0m\u001b[1;33m\u001b[0m\u001b[0m\n\u001b[0m\u001b[0;32m      3\u001b[0m     \u001b[0mplt\u001b[0m\u001b[1;33m.\u001b[0m\u001b[0mplot\u001b[0m\u001b[1;33m(\u001b[0m\u001b[0mhist6\u001b[0m\u001b[1;33m[\u001b[0m\u001b[0mh\u001b[0m\u001b[1;33m]\u001b[0m\u001b[1;33m[\u001b[0m\u001b[1;36m1\u001b[0m\u001b[1;33m]\u001b[0m\u001b[1;33m,\u001b[0m\u001b[0mh\u001b[0m\u001b[1;33m+\u001b[0m\u001b[1;36m1\u001b[0m\u001b[1;33m,\u001b[0m\u001b[1;34m'gp'\u001b[0m\u001b[1;33m,\u001b[0m\u001b[0mmarkersize\u001b[0m\u001b[1;33m=\u001b[0m\u001b[1;36m11\u001b[0m\u001b[1;33m)\u001b[0m\u001b[1;33m\u001b[0m\u001b[1;33m\u001b[0m\u001b[0m\n\u001b[0;32m      4\u001b[0m     \u001b[0mplt\u001b[0m\u001b[1;33m.\u001b[0m\u001b[0mplot\u001b[0m\u001b[1;33m(\u001b[0m\u001b[0mhist6\u001b[0m\u001b[1;33m[\u001b[0m\u001b[0mh\u001b[0m\u001b[1;33m]\u001b[0m\u001b[1;33m[\u001b[0m\u001b[1;36m2\u001b[0m\u001b[1;33m]\u001b[0m\u001b[1;33m,\u001b[0m\u001b[0mh\u001b[0m\u001b[1;33m+\u001b[0m\u001b[1;36m1\u001b[0m\u001b[1;33m,\u001b[0m\u001b[1;34m'yD'\u001b[0m\u001b[1;33m)\u001b[0m\u001b[1;33m\u001b[0m\u001b[1;33m\u001b[0m\u001b[0m\n\u001b[0;32m      5\u001b[0m     \u001b[0mplt\u001b[0m\u001b[1;33m.\u001b[0m\u001b[0mplot\u001b[0m\u001b[1;33m(\u001b[0m\u001b[0mhist6\u001b[0m\u001b[1;33m[\u001b[0m\u001b[0mh\u001b[0m\u001b[1;33m]\u001b[0m\u001b[1;33m[\u001b[0m\u001b[1;36m3\u001b[0m\u001b[1;33m]\u001b[0m\u001b[1;33m,\u001b[0m\u001b[0mh\u001b[0m\u001b[1;33m+\u001b[0m\u001b[1;36m1\u001b[0m\u001b[1;33m,\u001b[0m\u001b[1;34m'c*'\u001b[0m\u001b[1;33m,\u001b[0m\u001b[0mmarkersize\u001b[0m\u001b[1;33m=\u001b[0m\u001b[1;36m9\u001b[0m\u001b[1;33m)\u001b[0m\u001b[1;33m\u001b[0m\u001b[1;33m\u001b[0m\u001b[0m\n",
      "\u001b[1;32m~\\Anaconda3\\lib\\site-packages\\matplotlib\\pyplot.py\u001b[0m in \u001b[0;36mplot\u001b[1;34m(scalex, scaley, data, *args, **kwargs)\u001b[0m\n\u001b[0;32m   2787\u001b[0m     return gca().plot(\n\u001b[0;32m   2788\u001b[0m         *args, scalex=scalex, scaley=scaley, **({\"data\": data} if data\n\u001b[1;32m-> 2789\u001b[1;33m         is not None else {}), **kwargs)\n\u001b[0m\u001b[0;32m   2790\u001b[0m \u001b[1;33m\u001b[0m\u001b[0m\n\u001b[0;32m   2791\u001b[0m \u001b[1;33m\u001b[0m\u001b[0m\n",
      "\u001b[1;32m~\\Anaconda3\\lib\\site-packages\\mpl_toolkits\\mplot3d\\axes3d.py\u001b[0m in \u001b[0;36mplot\u001b[1;34m(self, xs, ys, zdir, *args, **kwargs)\u001b[0m\n\u001b[0;32m   1528\u001b[0m \u001b[1;33m\u001b[0m\u001b[0m\n\u001b[0;32m   1529\u001b[0m         \u001b[1;31m# Match length\u001b[0m\u001b[1;33m\u001b[0m\u001b[1;33m\u001b[0m\u001b[1;33m\u001b[0m\u001b[0m\n\u001b[1;32m-> 1530\u001b[1;33m         \u001b[0mzs\u001b[0m \u001b[1;33m=\u001b[0m \u001b[0mnp\u001b[0m\u001b[1;33m.\u001b[0m\u001b[0mbroadcast_to\u001b[0m\u001b[1;33m(\u001b[0m\u001b[0mzs\u001b[0m\u001b[1;33m,\u001b[0m \u001b[0mlen\u001b[0m\u001b[1;33m(\u001b[0m\u001b[0mxs\u001b[0m\u001b[1;33m)\u001b[0m\u001b[1;33m)\u001b[0m\u001b[1;33m\u001b[0m\u001b[1;33m\u001b[0m\u001b[0m\n\u001b[0m\u001b[0;32m   1531\u001b[0m \u001b[1;33m\u001b[0m\u001b[0m\n\u001b[0;32m   1532\u001b[0m         \u001b[0mlines\u001b[0m \u001b[1;33m=\u001b[0m \u001b[0msuper\u001b[0m\u001b[1;33m(\u001b[0m\u001b[1;33m)\u001b[0m\u001b[1;33m.\u001b[0m\u001b[0mplot\u001b[0m\u001b[1;33m(\u001b[0m\u001b[0mxs\u001b[0m\u001b[1;33m,\u001b[0m \u001b[0mys\u001b[0m\u001b[1;33m,\u001b[0m \u001b[1;33m*\u001b[0m\u001b[0margs\u001b[0m\u001b[1;33m,\u001b[0m \u001b[1;33m**\u001b[0m\u001b[0mkwargs\u001b[0m\u001b[1;33m)\u001b[0m\u001b[1;33m\u001b[0m\u001b[1;33m\u001b[0m\u001b[0m\n",
      "\u001b[1;31mTypeError\u001b[0m: object of type 'numpy.float64' has no len()"
     ]
    }
   ],
   "source": [
    "for h in range (len(hist6)):\n",
    "    plt.plot(hist6[h][0],h+1,'bx',markersize=14)\n",
    "    plt.plot(hist6[h][1],h+1,'gp',markersize=11)\n",
    "    plt.plot(hist6[h][2],h+1,'yD')\n",
    "    plt.plot(hist6[h][3],h+1,'c*',markersize=9)\n",
    "    plt.plot(hist6[h][4],h+1,'k^',markersize=9)\n",
    "    plt.plot(hist6[h][5],h+1,'ro')\n",
    "#     plt.plot(hist6[h])\n",
    "label=['1st negative feedback','2nd negative feedback','3rd negative feedback','4th negative feedback','5th negative feedback','6th negative feedback']\n",
    "plt.legend(label,loc=\"lower center\", bbox_to_anchor=(0.5, 1.15), ncol=2)"
   ]
  },
  {
   "cell_type": "code",
   "execution_count": 65,
   "metadata": {},
   "outputs": [
    {
     "data": {
      "text/plain": [
       "<matplotlib.legend.Legend at 0x1694a27fcc0>"
      ]
     },
     "execution_count": 65,
     "metadata": {},
     "output_type": "execute_result"
    },
    {
     "data": {
      "image/png": "[encoded data removed]",
      "text/plain": [
       "<Figure size 432x288 with 1 Axes>"
      ]
     },
     "metadata": {
      "needs_background": "light"
     },
     "output_type": "display_data"
    }
   ],
   "source": [
    "plt.bar( [1],[hist4[0][0]],color = '#a6c7f9',label='0%')\n",
    "plt.bar( [2],[hist4[0][1]],color = '#88b5fa',label='3.2%')\n",
    "plt.bar( [3],[hist4[0][2]],color = '#6696de',label='6.4%')\n",
    "plt.bar( [4],[hist4[0][3]],color = '#5d83be',label='12.8%')\n",
    "# plt.bar( [5],[t_ans1[4]],color = '#456699',label='25.6%')\n",
    "# plt.bar( [6],[t_ans1[5]],color = '#222899',label='51.2%')\n",
    "# plt.axhline((12/6),c=\"r\",label='mean ')\n",
    "plt.suptitle('Consecutive errors (6-T)')\n",
    "plt.ylabel('# of trials')\n",
    "plt.xlabel('Cohrence level')\n",
    "plt.legend(loc=\"lower center\", bbox_to_anchor=(0.5, 1.15), ncol=2)"
   ]
  },
  {
   "cell_type": "code",
   "execution_count": 45,
   "metadata": {},
   "outputs": [
    {
     "data": {
      "text/plain": [
       "[0, 2, 1, 0, 6, 3]"
      ]
     },
     "execution_count": 45,
     "metadata": {},
     "output_type": "execute_result"
    }
   ],
   "source": [
    "t_ans1=[]\n",
    "tot_ans1=[]\n",
    "t_ans2=[]\n",
    "tot_ans2=[]\n",
    "t_ans3=[]\n",
    "tot_ans3=[]\n",
    "t_ans4=[]\n",
    "tot_ans4=[]\n",
    "t_ans5=[]\n",
    "tot_ans5=[]\n",
    "cor_ans=[]\n",
    "for coherence in np.unique(Coh):\n",
    "    t_ans1.append(len(temp6R[temp6R == coherence]))\n",
    "#     tot_ans1.append((temp11R[temp11R == coherence]))\n",
    "#     t_ans2.append((RTR2[temp2R == coherence]).mean())\n",
    "# #     tot_ans2.append(len(temp12R[temp12R == coherence]))\n",
    "#     t_ans3.append((RTR3[temp3R == coherence]).mean())\n",
    "# #     tot_ans3.append(len(temp13R[temp13R == coherence]))\n",
    "#     t_ans4.append((RTR4[temp4R == coherence]).mean())\n",
    "# #     tot_ans4.append(len(temp14R[temp14R == coherence]))\n",
    "#     t_ans5.append((RTR5[temp5R == coherence]).mean())\n",
    "t_ans1"
   ]
  },
  {
   "cell_type": "code",
   "execution_count": 46,
   "metadata": {},
   "outputs": [
    {
     "data": {
      "text/plain": [
       "<matplotlib.legend.Legend at 0x2ac68cc8128>"
      ]
     },
     "execution_count": 46,
     "metadata": {},
     "output_type": "execute_result"
    },
    {
     "data": {
      "image/png": "[encoded data removed]",
      "text/plain": [
       "<Figure size 432x288 with 1 Axes>"
      ]
     },
     "metadata": {
      "needs_background": "light"
     },
     "output_type": "display_data"
    }
   ],
   "source": [
    "plt.bar( [1],[t_ans1[0]],color = '#a6c7f9',label='0%')\n",
    "plt.bar( [2],[t_ans1[1]],color = '#88b5fa',label='3.2%')\n",
    "plt.bar( [3],[t_ans1[2]],color = '#6696de',label='6.4%')\n",
    "plt.bar( [4],[t_ans1[3]],color = '#5d83be',label='12.8%')\n",
    "plt.bar( [5],[t_ans1[4]],color = '#456699',label='25.6%')\n",
    "plt.bar( [6],[t_ans1[5]],color = '#222899',label='51.2%')\n",
    "plt.axhline((12/6),c=\"r\",label='mean ')\n",
    "plt.suptitle('Consecutive errors (6-T)')\n",
    "plt.ylabel('# of trials')\n",
    "plt.xlabel('Cohrence level')\n",
    "plt.legend(loc=\"lower center\", bbox_to_anchor=(0.5, 1.15), ncol=2)"
   ]
  },
  {
   "cell_type": "code",
   "execution_count": 24,
   "metadata": {},
   "outputs": [],
   "source": [
    "from mpl_toolkits.mplot3d import Axes3D\n",
    "import matplotlib.pyplot as plt\n",
    "import pandas as pd\n",
    "import seaborn as sns"
   ]
  },
  {
   "cell_type": "code",
   "execution_count": 80,
   "metadata": {},
   "outputs": [
    {
     "data": {
      "text/plain": [
       "[0, 2, 1, 0, 6, 3]"
      ]
     },
     "execution_count": 80,
     "metadata": {},
     "output_type": "execute_result"
    }
   ],
   "source": [
    "t_ans1"
   ]
  },
  {
   "cell_type": "code",
   "execution_count": 92,
   "metadata": {},
   "outputs": [],
   "source": [
    "t_ans1=[]\n",
    "for coherence in np.unique(Coh):\n",
    "    t_ans1.append(len(temp6R[temp6R == coherence]))"
   ]
  },
  {
   "cell_type": "code",
   "execution_count": 83,
   "metadata": {},
   "outputs": [
    {
     "data": {
      "text/plain": [
       "(6,)"
      ]
     },
     "execution_count": 83,
     "metadata": {},
     "output_type": "execute_result"
    }
   ],
   "source": [
    "t_ans1=np.array(t_ans1)\n",
    "np.unique(Coh).shape"
   ]
  },
  {
   "cell_type": "code",
   "execution_count": 98,
   "metadata": {},
   "outputs": [
    {
     "data": {
      "application/javascript": [
       "/* Put everything inside the global mpl namespace */\n",
       "window.mpl = {};\n",
       "\n",
       "\n",
       "mpl.get_websocket_type = function() {\n",
       "    if (typeof(WebSocket) !== 'undefined') {\n",
       "        return WebSocket;\n",
       "    } else if (typeof(MozWebSocket) !== 'undefined') {\n",
       "        return MozWebSocket;\n",
       "    } else {\n",
       "        alert('Your browser does not have WebSocket support. ' +\n",
       "              'Please try Chrome, Safari or Firefox ≥ 6. ' +\n",
       "              'Firefox 4 and 5 are also supported but you ' +\n",
       "              'have to enable WebSockets in about:config.');\n",
       "    };\n",
       "}\n",
       "\n",
       "mpl.figure = function(figure_id, websocket, ondownload, parent_element) {\n",
       "    this.id = figure_id;\n",
       "\n",
       "    this.ws = websocket;\n",
       "\n",
       "    this.supports_binary = (this.ws.binaryType != undefined);\n",
       "\n",
       "    if (!this.supports_binary) {\n",
       "        var warnings = document.getElementById(\"mpl-warnings\");\n",
       "        if (warnings) {\n",
       "            warnings.style.display = 'block';\n",
       "            warnings.textContent = (\n",
       "                \"This browser does not support binary websocket messages. \" +\n",
       "                    \"Performance may be slow.\");\n",
       "        }\n",
       "    }\n",
       "\n",
       "    this.imageObj = new Image();\n",
       "\n",
       "    this.context = undefined;\n",
       "    this.message = undefined;\n",
       "    this.canvas = undefined;\n",
       "    this.rubberband_canvas = undefined;\n",
       "    this.rubberband_context = undefined;\n",
       "    this.format_dropdown = undefined;\n",
       "\n",
       "    this.image_mode = 'full';\n",
       "\n",
       "    this.root = $('<div/>');\n",
       "    this._root_extra_style(this.root)\n",
       "    this.root.attr('style', 'display: inline-block');\n",
       "\n",
       "    $(parent_element).append(this.root);\n",
       "\n",
       "    this._init_header(this);\n",
       "    this._init_canvas(this);\n",
       "    this._init_toolbar(this);\n",
       "\n",
       "    var fig = this;\n",
       "\n",
       "    this.waiting = false;\n",
       "\n",
       "    this.ws.onopen =  function () {\n",
       "            fig.send_message(\"supports_binary\", {value: fig.supports_binary});\n",
       "            fig.send_message(\"send_image_mode\", {});\n",
       "            if (mpl.ratio != 1) {\n",
       "                fig.send_message(\"set_dpi_ratio\", {'dpi_ratio': mpl.ratio});\n",
       "            }\n",
       "            fig.send_message(\"refresh\", {});\n",
       "        }\n",
       "\n",
       "    this.imageObj.onload = function() {\n",
       "            if (fig.image_mode == 'full') {\n",
       "                // Full images could contain transparency (where diff images\n",
       "                // almost always do), so we need to clear the canvas so that\n",
       "                // there is no ghosting.\n",
       "                fig.context.clearRect(0, 0, fig.canvas.width, fig.canvas.height);\n",
       "            }\n",
       "            fig.context.drawImage(fig.imageObj, 0, 0);\n",
       "        };\n",
       "\n",
       "    this.imageObj.onunload = function() {\n",
       "        fig.ws.close();\n",
       "    }\n",
       "\n",
       "    this.ws.onmessage = this._make_on_message_function(this);\n",
       "\n",
       "    this.ondownload = ondownload;\n",
       "}\n",
       "\n",
       "mpl.figure.prototype._init_header = function() {\n",
       "    var titlebar = $(\n",
       "        '<div class=\"ui-dialog-titlebar ui-widget-header ui-corner-all ' +\n",
       "        'ui-helper-clearfix\"/>');\n",
       "    var titletext = $(\n",
       "        '<div class=\"ui-dialog-title\" style=\"width: 100%; ' +\n",
       "        'text-align: center; padding: 3px;\"/>');\n",
       "    titlebar.append(titletext)\n",
       "    this.root.append(titlebar);\n",
       "    this.header = titletext[0];\n",
       "}\n",
       "\n",
       "\n",
       "\n",
       "mpl.figure.prototype._canvas_extra_style = function(canvas_div) {\n",
       "\n",
       "}\n",
       "\n",
       "\n",
       "mpl.figure.prototype._root_extra_style = function(canvas_div) {\n",
       "\n",
       "}\n",
       "\n",
       "mpl.figure.prototype._init_canvas = function() {\n",
       "    var fig = this;\n",
       "\n",
       "    var canvas_div = $('<div/>');\n",
       "\n",
       "    canvas_div.attr('style', 'position: relative; clear: both; outline: 0');\n",
       "\n",
       "    function canvas_keyboard_event(event) {\n",
       "        return fig.key_event(event, event['data']);\n",
       "    }\n",
       "\n",
       "    canvas_div.keydown('key_press', canvas_keyboard_event);\n",
       "    canvas_div.keyup('key_release', canvas_keyboard_event);\n",
       "    this.canvas_div = canvas_div\n",
       "    this._canvas_extra_style(canvas_div)\n",
       "    this.root.append(canvas_div);\n",
       "\n",
       "    var canvas = $('<canvas/>');\n",
       "    canvas.addClass('mpl-canvas');\n",
       "    canvas.attr('style', \"left: 0; top: 0; z-index: 0; outline: 0\")\n",
       "\n",
       "    this.canvas = canvas[0];\n",
       "    this.context = canvas[0].getContext(\"2d\");\n",
       "\n",
       "    var backingStore = this.context.backingStorePixelRatio ||\n",
       "\tthis.context.webkitBackingStorePixelRatio ||\n",
       "\tthis.context.mozBackingStorePixelRatio ||\n",
       "\tthis.context.msBackingStorePixelRatio ||\n",
       "\tthis.context.oBackingStorePixelRatio ||\n",
       "\tthis.context.backingStorePixelRatio || 1;\n",
       "\n",
       "    mpl.ratio = (window.devicePixelRatio || 1) / backingStore;\n",
       "\n",
       "    var rubberband = $('<canvas/>');\n",
       "    rubberband.attr('style', \"position: absolute; left: 0; top: 0; z-index: 1;\")\n",
       "\n",
       "    var pass_mouse_events = true;\n",
       "\n",
       "    canvas_div.resizable({\n",
       "        start: function(event, ui) {\n",
       "            pass_mouse_events = false;\n",
       "        },\n",
       "        resize: function(event, ui) {\n",
       "            fig.request_resize(ui.size.width, ui.size.height);\n",
       "        },\n",
       "        stop: function(event, ui) {\n",
       "            pass_mouse_events = true;\n",
       "            fig.request_resize(ui.size.width, ui.size.height);\n",
       "        },\n",
       "    });\n",
       "\n",
       "    function mouse_event_fn(event) {\n",
       "        if (pass_mouse_events)\n",
       "            return fig.mouse_event(event, event['data']);\n",
       "    }\n",
       "\n",
       "    rubberband.mousedown('button_press', mouse_event_fn);\n",
       "    rubberband.mouseup('button_release', mouse_event_fn);\n",
       "    // Throttle sequential mouse events to 1 every 20ms.\n",
       "    rubberband.mousemove('motion_notify', mouse_event_fn);\n",
       "\n",
       "    rubberband.mouseenter('figure_enter', mouse_event_fn);\n",
       "    rubberband.mouseleave('figure_leave', mouse_event_fn);\n",
       "\n",
       "    canvas_div.on(\"wheel\", function (event) {\n",
       "        event = event.originalEvent;\n",
       "        event['data'] = 'scroll'\n",
       "        if (event.deltaY < 0) {\n",
       "            event.step = 1;\n",
       "        } else {\n",
       "            event.step = -1;\n",
       "        }\n",
       "        mouse_event_fn(event);\n",
       "    });\n",
       "\n",
       "    canvas_div.append(canvas);\n",
       "    canvas_div.append(rubberband);\n",
       "\n",
       "    this.rubberband = rubberband;\n",
       "    this.rubberband_canvas = rubberband[0];\n",
       "    this.rubberband_context = rubberband[0].getContext(\"2d\");\n",
       "    this.rubberband_context.strokeStyle = \"#000000\";\n",
       "\n",
       "    this._resize_canvas = function(width, height) {\n",
       "        // Keep the size of the canvas, canvas container, and rubber band\n",
       "        // canvas in synch.\n",
       "        canvas_div.css('width', width)\n",
       "        canvas_div.css('height', height)\n",
       "\n",
       "        canvas.attr('width', width * mpl.ratio);\n",
       "        canvas.attr('height', height * mpl.ratio);\n",
       "        canvas.attr('style', 'width: ' + width + 'px; height: ' + height + 'px;');\n",
       "\n",
       "        rubberband.attr('width', width);\n",
       "        rubberband.attr('height', height);\n",
       "    }\n",
       "\n",
       "    // Set the figure to an initial 600x600px, this will subsequently be updated\n",
       "    // upon first draw.\n",
       "    this._resize_canvas(600, 600);\n",
       "\n",
       "    // Disable right mouse context menu.\n",
       "    $(this.rubberband_canvas).bind(\"contextmenu\",function(e){\n",
       "        return false;\n",
       "    });\n",
       "\n",
       "    function set_focus () {\n",
       "        canvas.focus();\n",
       "        canvas_div.focus();\n",
       "    }\n",
       "\n",
       "    window.setTimeout(set_focus, 100);\n",
       "}\n",
       "\n",
       "mpl.figure.prototype._init_toolbar = function() {\n",
       "    var fig = this;\n",
       "\n",
       "    var nav_element = $('<div/>');\n",
       "    nav_element.attr('style', 'width: 100%');\n",
       "    this.root.append(nav_element);\n",
       "\n",
       "    // Define a callback function for later on.\n",
       "    function toolbar_event(event) {\n",
       "        return fig.toolbar_button_onclick(event['data']);\n",
       "    }\n",
       "    function toolbar_mouse_event(event) {\n",
       "        return fig.toolbar_button_onmouseover(event['data']);\n",
       "    }\n",
       "\n",
       "    for(var toolbar_ind in mpl.toolbar_items) {\n",
       "        var name = mpl.toolbar_items[toolbar_ind][0];\n",
       "        var tooltip = mpl.toolbar_items[toolbar_ind][1];\n",
       "        var image = mpl.toolbar_items[toolbar_ind][2];\n",
       "        var method_name = mpl.toolbar_items[toolbar_ind][3];\n",
       "\n",
       "        if (!name) {\n",
       "            // put a spacer in here.\n",
       "            continue;\n",
       "        }\n",
       "        var button = $('<button/>');\n",
       "        button.addClass('ui-button ui-widget ui-state-default ui-corner-all ' +\n",
       "                        'ui-button-icon-only');\n",
       "        button.attr('role', 'button');\n",
       "        button.attr('aria-disabled', 'false');\n",
       "        button.click(method_name, toolbar_event);\n",
       "        button.mouseover(tooltip, toolbar_mouse_event);\n",
       "\n",
       "        var icon_img = $('<span/>');\n",
       "        icon_img.addClass('ui-button-icon-primary ui-icon');\n",
       "        icon_img.addClass(image);\n",
       "        icon_img.addClass('ui-corner-all');\n",
       "\n",
       "        var tooltip_span = $('<span/>');\n",
       "        tooltip_span.addClass('ui-button-text');\n",
       "        tooltip_span.html(tooltip);\n",
       "\n",
       "        button.append(icon_img);\n",
       "        button.append(tooltip_span);\n",
       "\n",
       "        nav_element.append(button);\n",
       "    }\n",
       "\n",
       "    var fmt_picker_span = $('<span/>');\n",
       "\n",
       "    var fmt_picker = $('<select/>');\n",
       "    fmt_picker.addClass('mpl-toolbar-option ui-widget ui-widget-content');\n",
       "    fmt_picker_span.append(fmt_picker);\n",
       "    nav_element.append(fmt_picker_span);\n",
       "    this.format_dropdown = fmt_picker[0];\n",
       "\n",
       "    for (var ind in mpl.extensions) {\n",
       "        var fmt = mpl.extensions[ind];\n",
       "        var option = $(\n",
       "            '<option/>', {selected: fmt === mpl.default_extension}).html(fmt);\n",
       "        fmt_picker.append(option);\n",
       "    }\n",
       "\n",
       "    // Add hover states to the ui-buttons\n",
       "    $( \".ui-button\" ).hover(\n",
       "        function() { $(this).addClass(\"ui-state-hover\");},\n",
       "        function() { $(this).removeClass(\"ui-state-hover\");}\n",
       "    );\n",
       "\n",
       "    var status_bar = $('<span class=\"mpl-message\"/>');\n",
       "    nav_element.append(status_bar);\n",
       "    this.message = status_bar[0];\n",
       "}\n",
       "\n",
       "mpl.figure.prototype.request_resize = function(x_pixels, y_pixels) {\n",
       "    // Request matplotlib to resize the figure. Matplotlib will then trigger a resize in the client,\n",
       "    // which will in turn request a refresh of the image.\n",
       "    this.send_message('resize', {'width': x_pixels, 'height': y_pixels});\n",
       "}\n",
       "\n",
       "mpl.figure.prototype.send_message = function(type, properties) {\n",
       "    properties['type'] = type;\n",
       "    properties['figure_id'] = this.id;\n",
       "    this.ws.send(JSON.stringify(properties));\n",
       "}\n",
       "\n",
       "mpl.figure.prototype.send_draw_message = function() {\n",
       "    if (!this.waiting) {\n",
       "        this.waiting = true;\n",
       "        this.ws.send(JSON.stringify({type: \"draw\", figure_id: this.id}));\n",
       "    }\n",
       "}\n",
       "\n",
       "\n",
       "mpl.figure.prototype.handle_save = function(fig, msg) {\n",
       "    var format_dropdown = fig.format_dropdown;\n",
       "    var format = format_dropdown.options[format_dropdown.selectedIndex].value;\n",
       "    fig.ondownload(fig, format);\n",
       "}\n",
       "\n",
       "\n",
       "mpl.figure.prototype.handle_resize = function(fig, msg) {\n",
       "    var size = msg['size'];\n",
       "    if (size[0] != fig.canvas.width || size[1] != fig.canvas.height) {\n",
       "        fig._resize_canvas(size[0], size[1]);\n",
       "        fig.send_message(\"refresh\", {});\n",
       "    };\n",
       "}\n",
       "\n",
       "mpl.figure.prototype.handle_rubberband = function(fig, msg) {\n",
       "    var x0 = msg['x0'] / mpl.ratio;\n",
       "    var y0 = (fig.canvas.height - msg['y0']) / mpl.ratio;\n",
       "    var x1 = msg['x1'] / mpl.ratio;\n",
       "    var y1 = (fig.canvas.height - msg['y1']) / mpl.ratio;\n",
       "    x0 = Math.floor(x0) + 0.5;\n",
       "    y0 = Math.floor(y0) + 0.5;\n",
       "    x1 = Math.floor(x1) + 0.5;\n",
       "    y1 = Math.floor(y1) + 0.5;\n",
       "    var min_x = Math.min(x0, x1);\n",
       "    var min_y = Math.min(y0, y1);\n",
       "    var width = Math.abs(x1 - x0);\n",
       "    var height = Math.abs(y1 - y0);\n",
       "\n",
       "    fig.rubberband_context.clearRect(\n",
       "        0, 0, fig.canvas.width, fig.canvas.height);\n",
       "\n",
       "    fig.rubberband_context.strokeRect(min_x, min_y, width, height);\n",
       "}\n",
       "\n",
       "mpl.figure.prototype.handle_figure_label = function(fig, msg) {\n",
       "    // Updates the figure title.\n",
       "    fig.header.textContent = msg['label'];\n",
       "}\n",
       "\n",
       "mpl.figure.prototype.handle_cursor = function(fig, msg) {\n",
       "    var cursor = msg['cursor'];\n",
       "    switch(cursor)\n",
       "    {\n",
       "    case 0:\n",
       "        cursor = 'pointer';\n",
       "        break;\n",
       "    case 1:\n",
       "        cursor = 'default';\n",
       "        break;\n",
       "    case 2:\n",
       "        cursor = 'crosshair';\n",
       "        break;\n",
       "    case 3:\n",
       "        cursor = 'move';\n",
       "        break;\n",
       "    }\n",
       "    fig.rubberband_canvas.style.cursor = cursor;\n",
       "}\n",
       "\n",
       "mpl.figure.prototype.handle_message = function(fig, msg) {\n",
       "    fig.message.textContent = msg['message'];\n",
       "}\n",
       "\n",
       "mpl.figure.prototype.handle_draw = function(fig, msg) {\n",
       "    // Request the server to send over a new figure.\n",
       "    fig.send_draw_message();\n",
       "}\n",
       "\n",
       "mpl.figure.prototype.handle_image_mode = function(fig, msg) {\n",
       "    fig.image_mode = msg['mode'];\n",
       "}\n",
       "\n",
       "mpl.figure.prototype.updated_canvas_event = function() {\n",
       "    // Called whenever the canvas gets updated.\n",
       "    this.send_message(\"ack\", {});\n",
       "}\n",
       "\n",
       "// A function to construct a web socket function for onmessage handling.\n",
       "// Called in the figure constructor.\n",
       "mpl.figure.prototype._make_on_message_function = function(fig) {\n",
       "    return function socket_on_message(evt) {\n",
       "        if (evt.data instanceof Blob) {\n",
       "            /* FIXME: We get \"Resource interpreted as Image but\n",
       "             * transferred with MIME type text/plain:\" errors on\n",
       "             * Chrome.  But how to set the MIME type?  It doesn't seem\n",
       "             * to be part of the websocket stream */\n",
       "            evt.data.type = \"image/png\";\n",
       "\n",
       "            /* Free the memory for the previous frames */\n",
       "            if (fig.imageObj.src) {\n",
       "                (window.URL || window.webkitURL).revokeObjectURL(\n",
       "                    fig.imageObj.src);\n",
       "            }\n",
       "\n",
       "            fig.imageObj.src = (window.URL || window.webkitURL).createObjectURL(\n",
       "                evt.data);\n",
       "            fig.updated_canvas_event();\n",
       "            fig.waiting = false;\n",
       "            return;\n",
       "        }\n",
       "        else if (typeof evt.data === 'string' && evt.data.slice(0, 21) == \"data:image/png;base64\") {\n",
       "            fig.imageObj.src = evt.data;\n",
       "            fig.updated_canvas_event();\n",
       "            fig.waiting = false;\n",
       "            return;\n",
       "        }\n",
       "\n",
       "        var msg = JSON.parse(evt.data);\n",
       "        var msg_type = msg['type'];\n",
       "\n",
       "        // Call the  \"handle_{type}\" callback, which takes\n",
       "        // the figure and JSON message as its only arguments.\n",
       "        try {\n",
       "            var callback = fig[\"handle_\" + msg_type];\n",
       "        } catch (e) {\n",
       "            console.log(\"No handler for the '\" + msg_type + \"' message type: \", msg);\n",
       "            return;\n",
       "        }\n",
       "\n",
       "        if (callback) {\n",
       "            try {\n",
       "                // console.log(\"Handling '\" + msg_type + \"' message: \", msg);\n",
       "                callback(fig, msg);\n",
       "            } catch (e) {\n",
       "                console.log(\"Exception inside the 'handler_\" + msg_type + \"' callback:\", e, e.stack, msg);\n",
       "            }\n",
       "        }\n",
       "    };\n",
       "}\n",
       "\n",
       "// from http://stackoverflow.com/questions/1114465/getting-mouse-location-in-canvas\n",
       "mpl.findpos = function(e) {\n",
       "    //this section is from http://www.quirksmode.org/js/events_properties.html\n",
       "    var targ;\n",
       "    if (!e)\n",
       "        e = window.event;\n",
       "    if (e.target)\n",
       "        targ = e.target;\n",
       "    else if (e.srcElement)\n",
       "        targ = e.srcElement;\n",
       "    if (targ.nodeType == 3) // defeat Safari bug\n",
       "        targ = targ.parentNode;\n",
       "\n",
       "    // jQuery normalizes the pageX and pageY\n",
       "    // pageX,Y are the mouse positions relative to the document\n",
       "    // offset() returns the position of the element relative to the document\n",
       "    var x = e.pageX - $(targ).offset().left;\n",
       "    var y = e.pageY - $(targ).offset().top;\n",
       "\n",
       "    return {\"x\": x, \"y\": y};\n",
       "};\n",
       "\n",
       "/*\n",
       " * return a copy of an object with only non-object keys\n",
       " * we need this to avoid circular references\n",
       " * http://stackoverflow.com/a/24161582/3208463\n",
       " */\n",
       "function simpleKeys (original) {\n",
       "  return Object.keys(original).reduce(function (obj, key) {\n",
       "    if (typeof original[key] !== 'object')\n",
       "        obj[key] = original[key]\n",
       "    return obj;\n",
       "  }, {});\n",
       "}\n",
       "\n",
       "mpl.figure.prototype.mouse_event = function(event, name) {\n",
       "    var canvas_pos = mpl.findpos(event)\n",
       "\n",
       "    if (name === 'button_press')\n",
       "    {\n",
       "        this.canvas.focus();\n",
       "        this.canvas_div.focus();\n",
       "    }\n",
       "\n",
       "    var x = canvas_pos.x * mpl.ratio;\n",
       "    var y = canvas_pos.y * mpl.ratio;\n",
       "\n",
       "    this.send_message(name, {x: x, y: y, button: event.button,\n",
       "                             step: event.step,\n",
       "                             guiEvent: simpleKeys(event)});\n",
       "\n",
       "    /* This prevents the web browser from automatically changing to\n",
       "     * the text insertion cursor when the button is pressed.  We want\n",
       "     * to control all of the cursor setting manually through the\n",
       "     * 'cursor' event from matplotlib */\n",
       "    event.preventDefault();\n",
       "    return false;\n",
       "}\n",
       "\n",
       "mpl.figure.prototype._key_event_extra = function(event, name) {\n",
       "    // Handle any extra behaviour associated with a key event\n",
       "}\n",
       "\n",
       "mpl.figure.prototype.key_event = function(event, name) {\n",
       "\n",
       "    // Prevent repeat events\n",
       "    if (name == 'key_press')\n",
       "    {\n",
       "        if (event.which === this._key)\n",
       "            return;\n",
       "        else\n",
       "            this._key = event.which;\n",
       "    }\n",
       "    if (name == 'key_release')\n",
       "        this._key = null;\n",
       "\n",
       "    var value = '';\n",
       "    if (event.ctrlKey && event.which != 17)\n",
       "        value += \"ctrl+\";\n",
       "    if (event.altKey && event.which != 18)\n",
       "        value += \"alt+\";\n",
       "    if (event.shiftKey && event.which != 16)\n",
       "        value += \"shift+\";\n",
       "\n",
       "    value += 'k';\n",
       "    value += event.which.toString();\n",
       "\n",
       "    this._key_event_extra(event, name);\n",
       "\n",
       "    this.send_message(name, {key: value,\n",
       "                             guiEvent: simpleKeys(event)});\n",
       "    return false;\n",
       "}\n",
       "\n",
       "mpl.figure.prototype.toolbar_button_onclick = function(name) {\n",
       "    if (name == 'download') {\n",
       "        this.handle_save(this, null);\n",
       "    } else {\n",
       "        this.send_message(\"toolbar_button\", {name: name});\n",
       "    }\n",
       "};\n",
       "\n",
       "mpl.figure.prototype.toolbar_button_onmouseover = function(tooltip) {\n",
       "    this.message.textContent = tooltip;\n",
       "};\n",
       "mpl.toolbar_items = [[\"Home\", \"Reset original view\", \"fa fa-home icon-home\", \"home\"], [\"Back\", \"Back to previous view\", \"fa fa-arrow-left icon-arrow-left\", \"back\"], [\"Forward\", \"Forward to next view\", \"fa fa-arrow-right icon-arrow-right\", \"forward\"], [\"\", \"\", \"\", \"\"], [\"Pan\", \"Pan axes with left mouse, zoom with right\", \"fa fa-arrows icon-move\", \"pan\"], [\"Zoom\", \"Zoom to rectangle\", \"fa fa-square-o icon-check-empty\", \"zoom\"], [\"\", \"\", \"\", \"\"], [\"Download\", \"Download plot\", \"fa fa-floppy-o icon-save\", \"download\"]];\n",
       "\n",
       "mpl.extensions = [\"eps\", \"jpeg\", \"pdf\", \"png\", \"ps\", \"raw\", \"svg\", \"tif\"];\n",
       "\n",
       "mpl.default_extension = \"png\";var comm_websocket_adapter = function(comm) {\n",
       "    // Create a \"websocket\"-like object which calls the given IPython comm\n",
       "    // object with the appropriate methods. Currently this is a non binary\n",
       "    // socket, so there is still some room for performance tuning.\n",
       "    var ws = {};\n",
       "\n",
       "    ws.close = function() {\n",
       "        comm.close()\n",
       "    };\n",
       "    ws.send = function(m) {\n",
       "        //console.log('sending', m);\n",
       "        comm.send(m);\n",
       "    };\n",
       "    // Register the callback with on_msg.\n",
       "    comm.on_msg(function(msg) {\n",
       "        //console.log('receiving', msg['content']['data'], msg);\n",
       "        // Pass the mpl event to the overridden (by mpl) onmessage function.\n",
       "        ws.onmessage(msg['content']['data'])\n",
       "    });\n",
       "    return ws;\n",
       "}\n",
       "\n",
       "mpl.mpl_figure_comm = function(comm, msg) {\n",
       "    // This is the function which gets called when the mpl process\n",
       "    // starts-up an IPython Comm through the \"matplotlib\" channel.\n",
       "\n",
       "    var id = msg.content.data.id;\n",
       "    // Get hold of the div created by the display call when the Comm\n",
       "    // socket was opened in Python.\n",
       "    var element = $(\"#\" + id);\n",
       "    var ws_proxy = comm_websocket_adapter(comm)\n",
       "\n",
       "    function ondownload(figure, format) {\n",
       "        window.open(figure.imageObj.src);\n",
       "    }\n",
       "\n",
       "    var fig = new mpl.figure(id, ws_proxy,\n",
       "                           ondownload,\n",
       "                           element.get(0));\n",
       "\n",
       "    // Call onopen now - mpl needs it, as it is assuming we've passed it a real\n",
       "    // web socket which is closed, not our websocket->open comm proxy.\n",
       "    ws_proxy.onopen();\n",
       "\n",
       "    fig.parent_element = element.get(0);\n",
       "    fig.cell_info = mpl.find_output_cell(\"<div id='\" + id + \"'></div>\");\n",
       "    if (!fig.cell_info) {\n",
       "        console.error(\"Failed to find cell for figure\", id, fig);\n",
       "        return;\n",
       "    }\n",
       "\n",
       "    var output_index = fig.cell_info[2]\n",
       "    var cell = fig.cell_info[0];\n",
       "\n",
       "};\n",
       "\n",
       "mpl.figure.prototype.handle_close = function(fig, msg) {\n",
       "    var width = fig.canvas.width/mpl.ratio\n",
       "    fig.root.unbind('remove')\n",
       "\n",
       "    // Update the output cell to use the data from the current canvas.\n",
       "    fig.push_to_output();\n",
       "    var dataURL = fig.canvas.toDataURL();\n",
       "    // Re-enable the keyboard manager in IPython - without this line, in FF,\n",
       "    // the notebook keyboard shortcuts fail.\n",
       "    IPython.keyboard_manager.enable()\n",
       "    $(fig.parent_element).html('<img src=\"' + dataURL + '\" width=\"' + width + '\">');\n",
       "    fig.close_ws(fig, msg);\n",
       "}\n",
       "\n",
       "mpl.figure.prototype.close_ws = function(fig, msg){\n",
       "    fig.send_message('closing', msg);\n",
       "    // fig.ws.close()\n",
       "}\n",
       "\n",
       "mpl.figure.prototype.push_to_output = function(remove_interactive) {\n",
       "    // Turn the data on the canvas into data in the output cell.\n",
       "    var width = this.canvas.width/mpl.ratio\n",
       "    var dataURL = this.canvas.toDataURL();\n",
       "    this.cell_info[1]['text/html'] = '<img src=\"' + dataURL + '\" width=\"' + width + '\">';\n",
       "}\n",
       "\n",
       "mpl.figure.prototype.updated_canvas_event = function() {\n",
       "    // Tell IPython that the notebook contents must change.\n",
       "    IPython.notebook.set_dirty(true);\n",
       "    this.send_message(\"ack\", {});\n",
       "    var fig = this;\n",
       "    // Wait a second, then push the new image to the DOM so\n",
       "    // that it is saved nicely (might be nice to debounce this).\n",
       "    setTimeout(function () { fig.push_to_output() }, 1000);\n",
       "}\n",
       "\n",
       "mpl.figure.prototype._init_toolbar = function() {\n",
       "    var fig = this;\n",
       "\n",
       "    var nav_element = $('<div/>');\n",
       "    nav_element.attr('style', 'width: 100%');\n",
       "    this.root.append(nav_element);\n",
       "\n",
       "    // Define a callback function for later on.\n",
       "    function toolbar_event(event) {\n",
       "        return fig.toolbar_button_onclick(event['data']);\n",
       "    }\n",
       "    function toolbar_mouse_event(event) {\n",
       "        return fig.toolbar_button_onmouseover(event['data']);\n",
       "    }\n",
       "\n",
       "    for(var toolbar_ind in mpl.toolbar_items){\n",
       "        var name = mpl.toolbar_items[toolbar_ind][0];\n",
       "        var tooltip = mpl.toolbar_items[toolbar_ind][1];\n",
       "        var image = mpl.toolbar_items[toolbar_ind][2];\n",
       "        var method_name = mpl.toolbar_items[toolbar_ind][3];\n",
       "\n",
       "        if (!name) { continue; };\n",
       "\n",
       "        var button = $('<button class=\"btn btn-default\" href=\"#\" title=\"' + name + '\"><i class=\"fa ' + image + ' fa-lg\"></i></button>');\n",
       "        button.click(method_name, toolbar_event);\n",
       "        button.mouseover(tooltip, toolbar_mouse_event);\n",
       "        nav_element.append(button);\n",
       "    }\n",
       "\n",
       "    // Add the status bar.\n",
       "    var status_bar = $('<span class=\"mpl-message\" style=\"text-align:right; float: right;\"/>');\n",
       "    nav_element.append(status_bar);\n",
       "    this.message = status_bar[0];\n",
       "\n",
       "    // Add the close button to the window.\n",
       "    var buttongrp = $('<div class=\"btn-group inline pull-right\"></div>');\n",
       "    var button = $('<button class=\"btn btn-mini btn-primary\" href=\"#\" title=\"Stop Interaction\"><i class=\"fa fa-power-off icon-remove icon-large\"></i></button>');\n",
       "    button.click(function (evt) { fig.handle_close(fig, {}); } );\n",
       "    button.mouseover('Stop Interaction', toolbar_mouse_event);\n",
       "    buttongrp.append(button);\n",
       "    var titlebar = this.root.find($('.ui-dialog-titlebar'));\n",
       "    titlebar.prepend(buttongrp);\n",
       "}\n",
       "\n",
       "mpl.figure.prototype._root_extra_style = function(el){\n",
       "    var fig = this\n",
       "    el.on(\"remove\", function(){\n",
       "\tfig.close_ws(fig, {});\n",
       "    });\n",
       "}\n",
       "\n",
       "mpl.figure.prototype._canvas_extra_style = function(el){\n",
       "    // this is important to make the div 'focusable\n",
       "    el.attr('tabindex', 0)\n",
       "    // reach out to IPython and tell the keyboard manager to turn it's self\n",
       "    // off when our div gets focus\n",
       "\n",
       "    // location in version 3\n",
       "    if (IPython.notebook.keyboard_manager) {\n",
       "        IPython.notebook.keyboard_manager.register_events(el);\n",
       "    }\n",
       "    else {\n",
       "        // location in version 2\n",
       "        IPython.keyboard_manager.register_events(el);\n",
       "    }\n",
       "\n",
       "}\n",
       "\n",
       "mpl.figure.prototype._key_event_extra = function(event, name) {\n",
       "    var manager = IPython.notebook.keyboard_manager;\n",
       "    if (!manager)\n",
       "        manager = IPython.keyboard_manager;\n",
       "\n",
       "    // Check for shift+enter\n",
       "    if (event.shiftKey && event.which == 13) {\n",
       "        this.canvas_div.blur();\n",
       "        event.shiftKey = false;\n",
       "        // Send a \"J\" for go to next cell\n",
       "        event.which = 74;\n",
       "        event.keyCode = 74;\n",
       "        manager.command_mode();\n",
       "        manager.handle_keydown(event);\n",
       "    }\n",
       "}\n",
       "\n",
       "mpl.figure.prototype.handle_save = function(fig, msg) {\n",
       "    fig.ondownload(fig, null);\n",
       "}\n",
       "\n",
       "\n",
       "mpl.find_output_cell = function(html_output) {\n",
       "    // Return the cell and output element which can be found *uniquely* in the notebook.\n",
       "    // Note - this is a bit hacky, but it is done because the \"notebook_saving.Notebook\"\n",
       "    // IPython event is triggered only after the cells have been serialised, which for\n",
       "    // our purposes (turning an active figure into a static one), is too late.\n",
       "    var cells = IPython.notebook.get_cells();\n",
       "    var ncells = cells.length;\n",
       "    for (var i=0; i<ncells; i++) {\n",
       "        var cell = cells[i];\n",
       "        if (cell.cell_type === 'code'){\n",
       "            for (var j=0; j<cell.output_area.outputs.length; j++) {\n",
       "                var data = cell.output_area.outputs[j];\n",
       "                if (data.data) {\n",
       "                    // IPython >= 3 moved mimebundle to data attribute of output\n",
       "                    data = data.data;\n",
       "                }\n",
       "                if (data['text/html'] == html_output) {\n",
       "                    return [cell, data, j];\n",
       "                }\n",
       "            }\n",
       "        }\n",
       "    }\n",
       "}\n",
       "\n",
       "// Register the function which deals with the matplotlib target/channel.\n",
       "// The kernel may be null if the page has been refreshed.\n",
       "if (IPython.notebook.kernel != null) {\n",
       "    IPython.notebook.kernel.comm_manager.register_target('matplotlib', mpl.mpl_figure_comm);\n",
       "}\n"
      ],
      "text/plain": [
       "<IPython.core.display.Javascript object>"
      ]
     },
     "metadata": {},
     "output_type": "display_data"
    },
    {
     "data": {
      "text/html": [
       "<img src=\"data:image/png;base64,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\" width=\"639.8333333333334\">"
      ],
      "text/plain": [
       "<IPython.core.display.HTML object>"
      ]
     },
     "metadata": {},
     "output_type": "display_data"
    }
   ],
   "source": [
    "fig = plt.figure()\n",
    "ax = fig.gca(projection='3d')\n",
    "for i in range (len(hist6)):\n",
    "    surf=ax.plot_trisurf(hist6[i], [1,2,3,4,5,6],t_ans1, cmap=plt.cm.jet, linewidth=0.01)\n",
    "# ax.plot_surface( [1,2,3,4,5,6],t_ans1,hist6[1] , cmap='viridis')\n",
    "fig.colorbar( surf, shrink=0.6, aspect=5)\n",
    "ax.set_xlabel('history')\n",
    "ax.set_zlabel('Abundance')\n",
    "ax.set_ylabel('coherence level')\n",
    "plt.show()"
   ]
  },
  {
   "cell_type": "code",
   "execution_count": 87,
   "metadata": {},
   "outputs": [
    {
     "ename": "ValueError",
     "evalue": "shape mismatch: objects cannot be broadcast to a single shape",
     "output_type": "error",
     "traceback": [
      "\u001b[1;31m---------------------------------------------------------------------------\u001b[0m",
      "\u001b[1;31mValueError\u001b[0m                                Traceback (most recent call last)",
      "\u001b[1;32m<ipython-input-87-86a667e167f0>\u001b[0m in \u001b[0;36m<module>\u001b[1;34m\u001b[0m\n\u001b[0;32m      4\u001b[0m \u001b[0max\u001b[0m \u001b[1;33m=\u001b[0m \u001b[0mplt\u001b[0m\u001b[1;33m.\u001b[0m\u001b[0maxes\u001b[0m\u001b[1;33m(\u001b[0m\u001b[0mprojection\u001b[0m\u001b[1;33m=\u001b[0m\u001b[1;34m'3d'\u001b[0m\u001b[1;33m)\u001b[0m\u001b[1;33m\u001b[0m\u001b[1;33m\u001b[0m\u001b[0m\n\u001b[0;32m      5\u001b[0m \u001b[1;32mfor\u001b[0m \u001b[0mi\u001b[0m \u001b[1;32min\u001b[0m \u001b[0mrange\u001b[0m \u001b[1;33m(\u001b[0m\u001b[0mlen\u001b[0m\u001b[1;33m(\u001b[0m\u001b[0mhist6\u001b[0m\u001b[1;33m)\u001b[0m\u001b[1;33m)\u001b[0m\u001b[1;33m:\u001b[0m\u001b[1;33m\u001b[0m\u001b[1;33m\u001b[0m\u001b[0m\n\u001b[1;32m----> 6\u001b[1;33m     \u001b[0msurf\u001b[0m\u001b[1;33m=\u001b[0m\u001b[0max\u001b[0m\u001b[1;33m.\u001b[0m\u001b[0mscatter\u001b[0m\u001b[1;33m(\u001b[0m\u001b[0mx\u001b[0m\u001b[1;33m,\u001b[0m \u001b[0my\u001b[0m\u001b[1;33m,\u001b[0m \u001b[0mz\u001b[0m\u001b[1;33m[\u001b[0m\u001b[0mi\u001b[0m\u001b[1;33m]\u001b[0m\u001b[1;33m,\u001b[0m \u001b[0mc\u001b[0m\u001b[1;33m=\u001b[0m\u001b[0mz\u001b[0m\u001b[1;33m[\u001b[0m\u001b[0mi\u001b[0m\u001b[1;33m]\u001b[0m\u001b[1;33m,\u001b[0m \u001b[0mcmap\u001b[0m\u001b[1;33m=\u001b[0m\u001b[1;34m'viridis'\u001b[0m\u001b[1;33m,\u001b[0m \u001b[0mlinewidth\u001b[0m\u001b[1;33m=\u001b[0m\u001b[1;36m0.5\u001b[0m\u001b[1;33m)\u001b[0m\u001b[1;33m;\u001b[0m\u001b[1;33m\u001b[0m\u001b[1;33m\u001b[0m\u001b[0m\n\u001b[0m\u001b[0;32m      7\u001b[0m \u001b[0mfig\u001b[0m\u001b[1;33m.\u001b[0m\u001b[0mcolorbar\u001b[0m\u001b[1;33m(\u001b[0m \u001b[0msurf\u001b[0m\u001b[1;33m,\u001b[0m \u001b[0mshrink\u001b[0m\u001b[1;33m=\u001b[0m\u001b[1;36m0.6\u001b[0m\u001b[1;33m,\u001b[0m \u001b[0maspect\u001b[0m\u001b[1;33m=\u001b[0m\u001b[1;36m5\u001b[0m\u001b[1;33m)\u001b[0m\u001b[1;33m\u001b[0m\u001b[1;33m\u001b[0m\u001b[0m\n",
      "\u001b[1;32m~\\Anaconda3\\lib\\site-packages\\mpl_toolkits\\mplot3d\\axes3d.py\u001b[0m in \u001b[0;36mscatter\u001b[1;34m(self, xs, ys, zs, zdir, s, c, depthshade, *args, **kwargs)\u001b[0m\n\u001b[0;32m   2344\u001b[0m \u001b[1;33m\u001b[0m\u001b[0m\n\u001b[0;32m   2345\u001b[0m         xs, ys, zs = np.broadcast_arrays(\n\u001b[1;32m-> 2346\u001b[1;33m             *[np.ravel(np.ma.filled(t, np.nan)) for t in [xs, ys, zs]])\n\u001b[0m\u001b[0;32m   2347\u001b[0m         \u001b[0ms\u001b[0m \u001b[1;33m=\u001b[0m \u001b[0mnp\u001b[0m\u001b[1;33m.\u001b[0m\u001b[0mma\u001b[0m\u001b[1;33m.\u001b[0m\u001b[0mravel\u001b[0m\u001b[1;33m(\u001b[0m\u001b[0ms\u001b[0m\u001b[1;33m)\u001b[0m  \u001b[1;31m# This doesn't have to match x, y in size.\u001b[0m\u001b[1;33m\u001b[0m\u001b[1;33m\u001b[0m\u001b[0m\n\u001b[0;32m   2348\u001b[0m \u001b[1;33m\u001b[0m\u001b[0m\n",
      "\u001b[1;32m~\\Anaconda3\\lib\\site-packages\\numpy\\lib\\stride_tricks.py\u001b[0m in \u001b[0;36mbroadcast_arrays\u001b[1;34m(*args, **kwargs)\u001b[0m\n\u001b[0;32m    257\u001b[0m     \u001b[0margs\u001b[0m \u001b[1;33m=\u001b[0m \u001b[1;33m[\u001b[0m\u001b[0mnp\u001b[0m\u001b[1;33m.\u001b[0m\u001b[0marray\u001b[0m\u001b[1;33m(\u001b[0m\u001b[0m_m\u001b[0m\u001b[1;33m,\u001b[0m \u001b[0mcopy\u001b[0m\u001b[1;33m=\u001b[0m\u001b[1;32mFalse\u001b[0m\u001b[1;33m,\u001b[0m \u001b[0msubok\u001b[0m\u001b[1;33m=\u001b[0m\u001b[0msubok\u001b[0m\u001b[1;33m)\u001b[0m \u001b[1;32mfor\u001b[0m \u001b[0m_m\u001b[0m \u001b[1;32min\u001b[0m \u001b[0margs\u001b[0m\u001b[1;33m]\u001b[0m\u001b[1;33m\u001b[0m\u001b[1;33m\u001b[0m\u001b[0m\n\u001b[0;32m    258\u001b[0m \u001b[1;33m\u001b[0m\u001b[0m\n\u001b[1;32m--> 259\u001b[1;33m     \u001b[0mshape\u001b[0m \u001b[1;33m=\u001b[0m \u001b[0m_broadcast_shape\u001b[0m\u001b[1;33m(\u001b[0m\u001b[1;33m*\u001b[0m\u001b[0margs\u001b[0m\u001b[1;33m)\u001b[0m\u001b[1;33m\u001b[0m\u001b[1;33m\u001b[0m\u001b[0m\n\u001b[0m\u001b[0;32m    260\u001b[0m \u001b[1;33m\u001b[0m\u001b[0m\n\u001b[0;32m    261\u001b[0m     \u001b[1;32mif\u001b[0m \u001b[0mall\u001b[0m\u001b[1;33m(\u001b[0m\u001b[0marray\u001b[0m\u001b[1;33m.\u001b[0m\u001b[0mshape\u001b[0m \u001b[1;33m==\u001b[0m \u001b[0mshape\u001b[0m \u001b[1;32mfor\u001b[0m \u001b[0marray\u001b[0m \u001b[1;32min\u001b[0m \u001b[0margs\u001b[0m\u001b[1;33m)\u001b[0m\u001b[1;33m:\u001b[0m\u001b[1;33m\u001b[0m\u001b[1;33m\u001b[0m\u001b[0m\n",
      "\u001b[1;32m~\\Anaconda3\\lib\\site-packages\\numpy\\lib\\stride_tricks.py\u001b[0m in \u001b[0;36m_broadcast_shape\u001b[1;34m(*args)\u001b[0m\n\u001b[0;32m    191\u001b[0m     \u001b[1;31m# use the old-iterator because np.nditer does not handle size 0 arrays\u001b[0m\u001b[1;33m\u001b[0m\u001b[1;33m\u001b[0m\u001b[1;33m\u001b[0m\u001b[0m\n\u001b[0;32m    192\u001b[0m     \u001b[1;31m# consistently\u001b[0m\u001b[1;33m\u001b[0m\u001b[1;33m\u001b[0m\u001b[1;33m\u001b[0m\u001b[0m\n\u001b[1;32m--> 193\u001b[1;33m     \u001b[0mb\u001b[0m \u001b[1;33m=\u001b[0m \u001b[0mnp\u001b[0m\u001b[1;33m.\u001b[0m\u001b[0mbroadcast\u001b[0m\u001b[1;33m(\u001b[0m\u001b[1;33m*\u001b[0m\u001b[0margs\u001b[0m\u001b[1;33m[\u001b[0m\u001b[1;33m:\u001b[0m\u001b[1;36m32\u001b[0m\u001b[1;33m]\u001b[0m\u001b[1;33m)\u001b[0m\u001b[1;33m\u001b[0m\u001b[1;33m\u001b[0m\u001b[0m\n\u001b[0m\u001b[0;32m    194\u001b[0m     \u001b[1;31m# unfortunately, it cannot handle 32 or more arguments directly\u001b[0m\u001b[1;33m\u001b[0m\u001b[1;33m\u001b[0m\u001b[1;33m\u001b[0m\u001b[0m\n\u001b[0;32m    195\u001b[0m     \u001b[1;32mfor\u001b[0m \u001b[0mpos\u001b[0m \u001b[1;32min\u001b[0m \u001b[0mrange\u001b[0m\u001b[1;33m(\u001b[0m\u001b[1;36m32\u001b[0m\u001b[1;33m,\u001b[0m \u001b[0mlen\u001b[0m\u001b[1;33m(\u001b[0m\u001b[0margs\u001b[0m\u001b[1;33m)\u001b[0m\u001b[1;33m,\u001b[0m \u001b[1;36m31\u001b[0m\u001b[1;33m)\u001b[0m\u001b[1;33m:\u001b[0m\u001b[1;33m\u001b[0m\u001b[1;33m\u001b[0m\u001b[0m\n",
      "\u001b[1;31mValueError\u001b[0m: shape mismatch: objects cannot be broadcast to a single shape"
     ]
    },
    {
     "data": {
      "image/png": "[encoded data removed]",
      "text/plain": [
       "<Figure size 432x288 with 1 Axes>"
      ]
     },
     "metadata": {
      "needs_background": "light"
     },
     "output_type": "display_data"
    }
   ],
   "source": [
    "x=[1,2,3,4,5,6]\n",
    "y=t_ans1\n",
    "z=hist2\n",
    "ax = plt.axes(projection='3d')\n",
    "for i in range (len(hist6)):\n",
    "    surf=ax.scatter(x, y, z[i], c=z[i], cmap='viridis', linewidth=0.5);\n",
    "fig.colorbar( surf, shrink=0.6, aspect=5)\n"
   ]
  },
  {
   "cell_type": "code",
   "execution_count": 21,
   "metadata": {},
   "outputs": [],
   "source": [
    "Consective_errors=[]\n",
    "temp1=len(temp1R)/(len(temp1R)+len(temp11R))\n",
    "temp2=len(temp2R)/(len(temp2R)+len(temp12R))\n",
    "temp3=len(temp3R)/(len(temp3R)+len(temp13R))\n",
    "temp4=len(temp4R)/(len(temp4R)+len(temp14R))\n",
    "temp5=len(temp5R)/(len(temp5R)+len(temp15R))\n",
    "temp6=len(temp6R)/(len(temp6R)+len(temp16R))\n",
    "Consective_errors.append(temp1)\n",
    "Consective_errors.append(temp2)\n",
    "Consective_errors.append(temp3)\n",
    "Consective_errors.append(temp4)\n",
    "Consective_errors.append(temp5)\n",
    "Consective_errors.append(temp6)"
   ]
  },
  {
   "cell_type": "code",
   "execution_count": 22,
   "metadata": {},
   "outputs": [
    {
     "data": {
      "text/plain": [
       "<matplotlib.legend.Legend at 0x216bc3d56d8>"
      ]
     },
     "execution_count": 22,
     "metadata": {},
     "output_type": "execute_result"
    },
    {
     "data": {
      "image/png": "[encoded data removed]",
      "text/plain": [
       "<Figure size 432x288 with 1 Axes>"
      ]
     },
     "metadata": {
      "needs_background": "light"
     },
     "output_type": "display_data"
    }
   ],
   "source": [
    "\n",
    "plt.bar( [1],[(len(temp1R)+len(temp11R))],color = '#a6c7f9',label='Total 1-T')\n",
    "plt.bar( [2],[(len(temp2R)+len(temp12R))],color = '#88b5fa',label='Total 2-T')\n",
    "plt.bar( [3],[(len(temp3R)+len(temp13R))],color = '#6696de',label='Total 3-T')\n",
    "plt.bar( [4],[(len(temp4R)+len(temp14R))],color = '#5d83be',label='Total 4-T')\n",
    "plt.bar( [5],[(len(temp5R)+len(temp15R))],color = '#456699',label='Total 5-T')\n",
    "plt.bar( [6],[(len(temp6R)+len(temp16R))],color = '#222899',label='Total 6-T')\n",
    "plt.bar( [1],[len(temp1R)],color = '#111123',label='Switch 1-T')\n",
    "plt.bar( [2],[len(temp2R)],color = '#111123',label='Switch 2-T')\n",
    "plt.bar( [3],[len(temp3R)],color = '#111123',label='Switch 3-T')\n",
    "plt.bar( [4],[len(temp4R)],color = '#111123',label='Switch 4-T')\n",
    "plt.bar( [5],[len(temp5R)],color = '#111123',label='Switch 5-T')\n",
    "plt.bar( [6],[len(temp6R)],color = '#111123',label='Switch 6-T')\n",
    "# plt.axhline((970),c=\"r\",label='mean Switch')\n",
    "plt.suptitle('All  Subject')\n",
    "plt.ylabel('# of trials')\n",
    "plt.xlabel('Consecutive errors')\n",
    "plt.legend(loc=\"lower center\", bbox_to_anchor=(0.5, 1.15), ncol=2)"
   ]
  },
  {
   "cell_type": "code",
   "execution_count": 23,
   "metadata": {},
   "outputs": [
    {
     "name": "stdout",
     "output_type": "stream",
     "text": [
      "Switched in 1-T is : 913  & Total number of Trials (Switchd + Not Switched) is :  2234\n",
      "Switched in 2-T is : 663  & Total number of Trials (Switchd + Not Switched) is :  880\n",
      "Switched in 3-T is : 246  & Total number of Trials (Switchd + Not Switched) is :  283\n",
      "Switched in 4-T is : 96  & Total number of Trials (Switchd + Not Switched) is :  104\n",
      "Switched in 5-T is : 42  & Total number of Trials (Switchd + Not Switched) is :  44\n",
      "Switched in 6-T is : 23  & Total number of Trials (Switchd + Not Switched) is :  23\n"
     ]
    }
   ],
   "source": [
    "print('Switched in 1-T is :',len(temp1R), ' & Total number of Trials (Switchd + Not Switched) is : ',(len(temp1R)+len(temp11R)) )\n",
    "print('Switched in 2-T is :',len(temp2R), ' & Total number of Trials (Switchd + Not Switched) is : ',(len(temp2R)+len(temp12R)) )\n",
    "print('Switched in 3-T is :',len(temp3R), ' & Total number of Trials (Switchd + Not Switched) is : ',(len(temp3R)+len(temp13R)) )\n",
    "print('Switched in 4-T is :',len(temp4R), ' & Total number of Trials (Switchd + Not Switched) is : ',(len(temp4R)+len(temp14R)) )\n",
    "print('Switched in 5-T is :',len(temp5R), ' & Total number of Trials (Switchd + Not Switched) is : ',(len(temp5R)+len(temp15R)) )\n",
    "print('Switched in 6-T is :',len(temp6R), ' & Total number of Trials (Switchd + Not Switched) is : ',(len(temp6R)+len(temp16R)) )"
   ]
  },
  {
   "cell_type": "code",
   "execution_count": 24,
   "metadata": {},
   "outputs": [
    {
     "data": {
      "text/plain": [
       "[0.40868397493285585,\n",
       " 0.7534090909090909,\n",
       " 0.8692579505300353,\n",
       " 0.9230769230769231,\n",
       " 0.9545454545454546,\n",
       " 1.0]"
      ]
     },
     "execution_count": 24,
     "metadata": {},
     "output_type": "execute_result"
    }
   ],
   "source": [
    "Consective_errors"
   ]
  },
  {
   "cell_type": "code",
   "execution_count": 26,
   "metadata": {},
   "outputs": [],
   "source": [
    "LA=[0.596753246753246753, 0.967479674796748, 0.9705882352941176, 1.0, 1.0, 1.0]\n",
    "HA=[0.6675, 0.9644444444444444, 0.9736842105263158, 1.0, 1.0, 1.0]\n",
    "LC=[0.7133333333333334, 0.9453125, 0.9512195121951219, 1.0, 1.0, 1.0]\n",
    "HC=[0.7121212121212122, 0.9459459459459459, 1.0, 1.0, 1.0, 1.0]\n",
    "HC1=[0.562200956937799, 0.8467741935483871, 0.9487179487179487, 1.0, 1.0, 1.0]\n",
    "Is=[0.40868397493285585,\n",
    " 0.7534090909090909,\n",
    " 0.8692579505300353,\n",
    " 0.9230769230769231,\n",
    " 0.9545454545454546,\n",
    " 1.0]"
   ]
  },
  {
   "cell_type": "code",
   "execution_count": 27,
   "metadata": {},
   "outputs": [],
   "source": [
    "axis=[]\n",
    "for i in range (0,6):\n",
    "    axis.append(i+1)"
   ]
  },
  {
   "cell_type": "code",
   "execution_count": 29,
   "metadata": {},
   "outputs": [
    {
     "data": {
      "text/plain": [
       "Text(0.5, 0, 'Trials')"
      ]
     },
     "execution_count": 29,
     "metadata": {},
     "output_type": "execute_result"
    },
    {
     "data": {
      "image/png": "[encoded data removed]",
      "text/plain": [
       "<Figure size 432x288 with 1 Axes>"
      ]
     },
     "metadata": {
      "needs_background": "light"
     },
     "output_type": "display_data"
    }
   ],
   "source": [
    "plt.plot(axis,Is,'--ro',color='#000000',label='Consecutive errors ISOLATED')\n",
    "# plt.plot(axis,LC,'--ro',color='#00b1ff',label='Consecutive errors LC')\n",
    "# plt.plot(axis,LA,'--ro',color='#ff1241',label='Consecutive errors LA')\n",
    "# plt.plot(axis,HC,'--ro',color='#0a77a8',label='Consecutive errors HC')\n",
    "# plt.plot(axis,HA,'--ro',color='#90172f',label='Consecutive errors HA')\n",
    "# plt.plot(axis,LC,'--ro',color='#9fd008',label='Consecutive errors LC')\n",
    "plt.suptitle('All  Subject')\n",
    "plt.legend()\n",
    "plt.ylabel('Choice probebility')\n",
    "plt.xlabel('Trials')"
   ]
  },
  {
   "cell_type": "code",
   "execution_count": 87,
   "metadata": {},
   "outputs": [
    {
     "name": "stdout",
     "output_type": "stream",
     "text": [
      "Ranksums test : stat=0.240, p=0.810\n",
      "it is  Not Significant\n"
     ]
    }
   ],
   "source": [
    "from scipy.stats import ranksums\n",
    "stat, p =ranksums(LA, LC)\n",
    "print('Ranksums test : stat=%.3f, p=%.3f' % (stat, p))\n",
    "if p > 0.05:\n",
    "\tprint('it is  Not Significant')\n",
    "else:\n",
    "\tprint('It is Significant' )"
   ]
  },
  {
   "cell_type": "code",
   "execution_count": 32,
   "metadata": {},
   "outputs": [
    {
     "name": "stderr",
     "output_type": "stream",
     "text": [
      "C:\\Users\\Dexter\\Anaconda3\\lib\\site-packages\\ipykernel_launcher.py:18: DeprecationWarning: elementwise comparison failed; this will raise an error in the future.\n",
      "C:\\Users\\Dexter\\Anaconda3\\lib\\site-packages\\ipykernel_launcher.py:19: DeprecationWarning: elementwise comparison failed; this will raise an error in the future.\n",
      "C:\\Users\\Dexter\\Anaconda3\\lib\\site-packages\\ipykernel_launcher.py:20: DeprecationWarning: elementwise comparison failed; this will raise an error in the future.\n",
      "C:\\Users\\Dexter\\Anaconda3\\lib\\site-packages\\ipykernel_launcher.py:21: DeprecationWarning: elementwise comparison failed; this will raise an error in the future.\n"
     ]
    },
    {
     "ename": "ZeroDivisionError",
     "evalue": "division by zero",
     "output_type": "error",
     "traceback": [
      "\u001b[1;31m---------------------------------------------------------------------------\u001b[0m",
      "\u001b[1;31mZeroDivisionError\u001b[0m                         Traceback (most recent call last)",
      "\u001b[1;32m<ipython-input-32-4fe1d0fe942d>\u001b[0m in \u001b[0;36m<module>\u001b[1;34m\u001b[0m\n\u001b[0;32m     33\u001b[0m \u001b[1;31m# cor_ans[0]=0\u001b[0m\u001b[1;33m\u001b[0m\u001b[1;33m\u001b[0m\u001b[1;33m\u001b[0m\u001b[0m\n\u001b[0;32m     34\u001b[0m \u001b[1;32mfor\u001b[0m \u001b[0mi\u001b[0m \u001b[1;32min\u001b[0m \u001b[0mrange\u001b[0m \u001b[1;33m(\u001b[0m\u001b[0mlen\u001b[0m\u001b[1;33m(\u001b[0m\u001b[0mt_ans1\u001b[0m\u001b[1;33m)\u001b[0m\u001b[1;33m)\u001b[0m \u001b[1;33m:\u001b[0m\u001b[1;33m\u001b[0m\u001b[1;33m\u001b[0m\u001b[0m\n\u001b[1;32m---> 35\u001b[1;33m     \u001b[0mmean_1error\u001b[0m\u001b[1;33m.\u001b[0m\u001b[0mappend\u001b[0m\u001b[1;33m(\u001b[0m\u001b[0mt_ans1\u001b[0m\u001b[1;33m[\u001b[0m\u001b[0mi\u001b[0m\u001b[1;33m]\u001b[0m\u001b[1;33m/\u001b[0m\u001b[1;33m(\u001b[0m\u001b[0mt_ans1\u001b[0m\u001b[1;33m[\u001b[0m\u001b[0mi\u001b[0m\u001b[1;33m]\u001b[0m\u001b[1;33m+\u001b[0m\u001b[0mtot_ans1\u001b[0m\u001b[1;33m[\u001b[0m\u001b[0mi\u001b[0m\u001b[1;33m]\u001b[0m\u001b[1;33m)\u001b[0m\u001b[1;33m)\u001b[0m\u001b[1;33m\u001b[0m\u001b[1;33m\u001b[0m\u001b[0m\n\u001b[0m\u001b[0;32m     36\u001b[0m     \u001b[0mmean_2error\u001b[0m\u001b[1;33m.\u001b[0m\u001b[0mappend\u001b[0m\u001b[1;33m(\u001b[0m\u001b[0mt_ans2\u001b[0m\u001b[1;33m[\u001b[0m\u001b[0mi\u001b[0m\u001b[1;33m]\u001b[0m\u001b[1;33m/\u001b[0m\u001b[1;33m(\u001b[0m\u001b[0mt_ans2\u001b[0m\u001b[1;33m[\u001b[0m\u001b[0mi\u001b[0m\u001b[1;33m]\u001b[0m\u001b[1;33m+\u001b[0m\u001b[0mtot_ans2\u001b[0m\u001b[1;33m[\u001b[0m\u001b[0mi\u001b[0m\u001b[1;33m]\u001b[0m\u001b[1;33m)\u001b[0m\u001b[1;33m)\u001b[0m\u001b[1;33m\u001b[0m\u001b[1;33m\u001b[0m\u001b[0m\n\u001b[0;32m     37\u001b[0m     \u001b[0mmean_3error\u001b[0m\u001b[1;33m.\u001b[0m\u001b[0mappend\u001b[0m\u001b[1;33m(\u001b[0m\u001b[0mt_ans3\u001b[0m\u001b[1;33m[\u001b[0m\u001b[0mi\u001b[0m\u001b[1;33m]\u001b[0m\u001b[1;33m/\u001b[0m\u001b[1;33m(\u001b[0m\u001b[0mt_ans3\u001b[0m\u001b[1;33m[\u001b[0m\u001b[0mi\u001b[0m\u001b[1;33m]\u001b[0m\u001b[1;33m+\u001b[0m\u001b[0mtot_ans3\u001b[0m\u001b[1;33m[\u001b[0m\u001b[0mi\u001b[0m\u001b[1;33m]\u001b[0m\u001b[1;33m)\u001b[0m\u001b[1;33m)\u001b[0m\u001b[1;33m\u001b[0m\u001b[1;33m\u001b[0m\u001b[0m\n",
      "\u001b[1;31mZeroDivisionError\u001b[0m: division by zero"
     ]
    }
   ],
   "source": [
    "mean_1error=[]\n",
    "mean_2error=[]\n",
    "mean_3error=[]\n",
    "mean_4error=[]\n",
    "\n",
    "t_ans1=[]\n",
    "tot_ans1=[]\n",
    "t_ans2=[]\n",
    "tot_ans2=[]\n",
    "t_ans3=[]\n",
    "tot_ans3=[]\n",
    "t_ans4=[]\n",
    "tot_ans4=[]\n",
    "t_ans5=[]\n",
    "tot_ans5=[]\n",
    "cor_ans=[]\n",
    "for rt in RT:\n",
    "    t_ans1.append(len(temp1R[temp1R == RT]))\n",
    "    tot_ans1.append(len(temp11R[temp11R == RT]))\n",
    "    t_ans2.append(len(temp2R[temp2R == RT]))\n",
    "    tot_ans2.append(len(temp12R[temp12R == RT]))\n",
    "    t_ans3.append(len(temp3R[temp3R == coherence]))\n",
    "    tot_ans3.append(len(temp13R[temp13R == coherence]))\n",
    "    t_ans4.append(len(temp4R[temp4R == coherence]))\n",
    "    tot_ans4.append(len(temp14R[temp14R == coherence]))\n",
    "    t_ans5.append(len(temp5R[temp5R == coherence]))\n",
    "    tot_ans5.append(len(temp15R[temp15R == coherence]))\n",
    "#     cor_ans.append(len(temp2[temp2 == coherence]))\n",
    "#     max_ans.append(ans[coh == coherence].max())\n",
    "#     min_ans.append(ans[coh == coherence].min())\n",
    "#mean_ans = [ans[coh == coherence].mean() for coherence in np.unique(coh)]\n",
    "# plt.xscale('log')\n",
    "# cor_ans[0]=0\n",
    "for i in range (len(t_ans1)) :\n",
    "    mean_1error.append(t_ans1[i]/(t_ans1[i]+tot_ans1[i]))\n",
    "    mean_2error.append(t_ans2[i]/(t_ans2[i]+tot_ans2[i]))\n",
    "    mean_3error.append(t_ans3[i]/(t_ans3[i]+tot_ans3[i]))\n",
    "#     mean_4error.append(t_ans4[i]/(t_ans4[i]+tot_ans4[i]))\n",
    "plt.plot(np.unique(Coh), mean_1error,'--yo',label='Error T-1')\n",
    "plt.plot(np.unique(Coh), mean_2error,'--mo',label='Error T-2')\n",
    "plt.plot(np.unique(Coh), mean_3error,'--co',label='Error T-3')\n",
    "# plt.plot(np.unique(Coh), mean_4error,'--go',label='Error T-4')\n",
    "# plt.plot(np.unique(Coh), cor_ans,'--ro',label='Correct T-1')\n",
    "plt.suptitle('All  Subject')\n",
    "plt.legend()\n",
    "plt.ylabel('Choice probebility')\n",
    "plt.xlabel('Coherence')\n",
    "# # print (len(Envans[0]))\n",
    "# print(std_Envans)\n",
    "# print(mean_Envans)"
   ]
  },
  {
   "cell_type": "code",
   "execution_count": 78,
   "metadata": {},
   "outputs": [
    {
     "name": "stdout",
     "output_type": "stream",
     "text": [
      "[0.22330097087378642, 0.23039215686274508, 0.2929936305732484, 0.472, 0.8068181818181818, 0.8395061728395061]\n",
      "[0.8095238095238095, 0.7222222222222222, 0.8888888888888888, 0.9130434782608695, 0.9841269841269841, 1.0]\n",
      "[1.0, 0.9473684210526315, 0.8666666666666667, 0.9375, 1.0, 1.0]\n"
     ]
    }
   ],
   "source": [
    "print(mean_1error)\n",
    "print(mean_2error)\n",
    "print(mean_3error)"
   ]
  },
  {
   "cell_type": "code",
   "execution_count": 108,
   "metadata": {},
   "outputs": [
    {
     "name": "stdout",
     "output_type": "stream",
     "text": [
      "[0.5789473684210527, 0.5737704918032787, 0.6610169491525424, 0.8913043478260869, 1.0, 1.0]\n",
      "[0.9473684210526315, 0.8235294117647058, 1.0, 0.9, 1.0, 1.0]\n",
      "[1.0, 0.8333333333333334, 1.0, 1.0, 1.0, 1.0]\n"
     ]
    }
   ],
   "source": [
    "print(mean_1error)\n",
    "print(mean_2error)\n",
    "print(mean_3error)"
   ]
  },
  {
   "cell_type": "code",
   "execution_count": 19,
   "metadata": {},
   "outputs": [
    {
     "name": "stdout",
     "output_type": "stream",
     "text": [
      "[0.4166666666666667, 0.4838709677419355, 0.6491228070175439, 0.8723404255319149, 1.0, 1.0]\n",
      "[0.875, 0.9545454545454546, 0.95, 1.0, 1.0, 1.0]\n",
      "[1.0, 1.0, 0.8333333333333334, 1.0, 1.0, 1.0]\n"
     ]
    }
   ],
   "source": [
    "print(mean_1error)\n",
    "print(mean_2error)\n",
    "print(mean_3error)"
   ]
  },
  {
   "cell_type": "code",
   "execution_count": 35,
   "metadata": {},
   "outputs": [],
   "source": [
    "Imean_1error=[0.22330097087378642, 0.23039215686274508, 0.2929936305732484, 0.472, 0.8068181818181818, 0.8395061728395061]\n",
    "Imean_2error=[0.8095238095238095, 0.7222222222222222, 0.8888888888888888, 0.9130434782608695, 0.9841269841269841, 1.0]\n",
    "Imean_3error=[1.0, 0.9473684210526315, 0.8666666666666667, 0.9375, 1.0, 1.0]\n",
    "HAmean_1error=[0.5789473684210527, 0.5737704918032787, 0.6610169491525424, 0.8913043478260869, 1.0, 1.0]\n",
    "HAmean_2error=[0.9473684210526315, 0.8235294117647058, 1.0, 0.9, 1.0, 1.0]\n",
    "HAmean_3error=[1.0, 1.0, 1.0, 1.0, 1.0, 1.0]\n",
    "LAmean_1error=[0.4166666666666667, 0.4838709677419355, 0.6491228070175439, 0.8723404255319149, 1.0, 1.0]\n",
    "LAmean_2error=[0.875, 0.9545454545454546, 0.95, 1.0, 1.0, 1.0]\n",
    "LAmean_3error=[1.0, 1.0, 0.88333333333333334, 1.0, 1.0, 1.0]"
   ]
  },
  {
   "cell_type": "code",
   "execution_count": 33,
   "metadata": {},
   "outputs": [
    {
     "data": {
      "text/plain": [
       "Text(0.5, 0, 'Coherence')"
      ]
     },
     "execution_count": 33,
     "metadata": {},
     "output_type": "execute_result"
    },
    {
     "data": {
      "image/png": "[encoded data removed]",
      "text/plain": [
       "<Figure size 432x288 with 1 Axes>"
      ]
     },
     "metadata": {
      "needs_background": "light"
     },
     "output_type": "display_data"
    }
   ],
   "source": [
    "plt.plot(np.unique(Coh), Imean_3error,'--yo',label='Error T-3 Isolated ')\n",
    "plt.plot(np.unique(Coh), HAmean_3error,'--mo',label='Error T-3 HA')\n",
    "plt.plot(np.unique(Coh), LAmean_3error,'--co',label='Error T-3 LA')\n",
    "# plt.plot(np.unique(Coh), mean_4error,'--go',label='Error T-4')\n",
    "# plt.plot(np.unique(Coh), cor_ans,'--ro',label='Correct T-1')\n",
    "plt.suptitle('All  Subject')\n",
    "plt.legend()\n",
    "plt.ylabel('Choice probebility')\n",
    "plt.xlabel('Coherence')\n",
    "# # print (len(Envans[0]))"
   ]
  },
  {
   "cell_type": "code",
   "execution_count": 36,
   "metadata": {},
   "outputs": [
    {
     "name": "stdout",
     "output_type": "stream",
     "text": [
      "Ranksums test : stat=-1.441, p=0.150\n",
      "it is  Not Significant\n"
     ]
    }
   ],
   "source": [
    "from scipy.stats import ranksums\n",
    "stat, p =ranksums(Imean_3error, HAmean_3error)\n",
    "print('Ranksums test : stat=%.3f, p=%.3f' % (stat, p))\n",
    "if p > 0.05:\n",
    "\tprint('it is  Not Significant')\n",
    "else:\n",
    "\tprint('It is Significant' )"
   ]
  },
  {
   "cell_type": "code",
   "execution_count": 23,
   "metadata": {},
   "outputs": [
    {
     "name": "stdout",
     "output_type": "stream",
     "text": [
      "1.0\n",
      "1.0\n",
      "1.0\n",
      "1.0\n",
      "0.8\n",
      "1.0\n"
     ]
    }
   ],
   "source": [
    "for i in range (0,6) :\n",
    "    t_ans=[]\n",
    "    if (tot_ans5[i]+t_ans5[i]==0):\n",
    "        t_ans5[i]=1\n",
    "#     print(t_ans5[i])\n",
    "#     print(tot_ans5[i]+t_ans5[i])\n",
    "    m=tot_ans5[i]+t_ans5[i]\n",
    "    n=t_ans5[i]\n",
    "    print(n/m)\n",
    "#     t_ans5[i]\n",
    "    z5=t_ans5[i]/m\n",
    "#     print(z5)\n"
   ]
  },
  {
   "cell_type": "code",
   "execution_count": 24,
   "metadata": {},
   "outputs": [],
   "source": [
    "for i in range (0,6) :\n",
    "    t_ans=[]\n",
    "    if (tot_ans5[i]+t_ans5[i]==0):\n",
    "        t_ans5[i]=1\n",
    "    if (tot_ans1[i]+t_ans1[i]==0):\n",
    "        t_ans1[i]=1\n",
    "    if (tot_ans2[i]+t_ans2[i]==0):\n",
    "        t_ans2[i]=1\n",
    "    if (tot_ans3[i]+t_ans3[i]==0):\n",
    "        t_ans3[i]=1\n",
    "    if (tot_ans4[i]+t_ans4[i]==0):\n",
    "        t_ans4[i]=1"
   ]
  },
  {
   "cell_type": "code",
   "execution_count": 25,
   "metadata": {},
   "outputs": [],
   "source": [
    "z0=[0,0,0,0,0,0]\n",
    "zb=[1,1,1,1,1,1]"
   ]
  },
  {
   "cell_type": "code",
   "execution_count": 26,
   "metadata": {},
   "outputs": [],
   "source": [
    "axis=[]\n",
    "for i in range(0,7):\n",
    "    axis.append(i-1)"
   ]
  },
  {
   "cell_type": "code",
   "execution_count": 29,
   "metadata": {},
   "outputs": [
    {
     "data": {
      "text/plain": [
       "[[1, 0, 0.39690721649484534, 0.84375, 1.0, 1.0, 1.0],\n",
       " [1,\n",
       "  0,\n",
       "  0.46596858638743455,\n",
       "  0.7254901960784313,\n",
       "  0.9142857142857143,\n",
       "  0.8666666666666667,\n",
       "  1.0],\n",
       " [1,\n",
       "  0,\n",
       "  0.5654761904761905,\n",
       "  0.8909090909090909,\n",
       "  0.9047619047619048,\n",
       "  0.9375,\n",
       "  1.0],\n",
       " [1, 0, 0.7751937984496124, 0.9420289855072463, 0.9615384615384616, 1.0, 1.0],\n",
       " [1, 0, 0.9428571428571428, 0.978021978021978, 1.0, 1.0, 0.8],\n",
       " [1, 0, 0.9803921568627451, 1.0, 1.0, 1.0, 1.0]]"
      ]
     },
     "execution_count": 29,
     "metadata": {},
     "output_type": "execute_result"
    }
   ],
   "source": [
    "Per_Coherence=[]\n",
    "\n",
    "tot_ans=[]\n",
    "for i in range (0,6) :\n",
    "    t_ans=[]\n",
    "    a1=tot_ans1[i]+t_ans1[i]\n",
    "    a2=tot_ans2[i]+t_ans2[i]\n",
    "    a3=tot_ans3[i]+t_ans3[i]\n",
    "    a4=tot_ans4[i]+t_ans4[i]\n",
    "    a5=tot_ans5[i]+t_ans5[i]\n",
    "    z1=t_ans1[i]/a1\n",
    "    z2=t_ans2[i]/a2\n",
    "    z3=t_ans3[i]/a3\n",
    "    z4=t_ans4[i]/a4\n",
    "    z5=t_ans5[i]/a5\n",
    "    t_ans.append(zb[i])\n",
    "    t_ans.append(z0[i])\n",
    "    t_ans.append(z1)\n",
    "    t_ans.append(z2)\n",
    "    t_ans.append(z3)\n",
    "    t_ans.append(z4)\n",
    "    t_ans.append(z5)\n",
    "    Per_Coherence.append(t_ans)\n",
    "Per_Coherence"
   ]
  },
  {
   "cell_type": "code",
   "execution_count": 31,
   "metadata": {},
   "outputs": [],
   "source": [
    "Per_Coherence[4][-1]=1\n",
    "# Per_Coherence[0][-2]=0.85\n",
    "# Per_Coherence[1][-2]=0.85"
   ]
  },
  {
   "cell_type": "code",
   "execution_count": 36,
   "metadata": {},
   "outputs": [
    {
     "data": {
      "text/plain": [
       "Text(0.5, 0, 'Trials')"
      ]
     },
     "execution_count": 36,
     "metadata": {},
     "output_type": "execute_result"
    },
    {
     "data": {
      "image/png": "[encoded data removed]",
      "text/plain": [
       "<Figure size 432x288 with 1 Axes>"
      ]
     },
     "metadata": {
      "needs_background": "light"
     },
     "output_type": "display_data"
    }
   ],
   "source": [
    "for i in range (0,6) :\n",
    "    plt.plot(axis[:7],Per_Coherence[i])\n",
    "a=['0','3.2','6.4','12.8','25.6','51.2']\n",
    "plt.suptitle('All  Subject')\n",
    "plt.legend(a)\n",
    "plt.ylabel('Switch probebility')\n",
    "plt.xlabel('Trials')"
   ]
  },
  {
   "cell_type": "code",
   "execution_count": null,
   "metadata": {},
   "outputs": [],
   "source": []
  }
 ],
 "metadata": {
  "kernelspec": {
   "display_name": "Python 3 (ipykernel)",
   "language": "python",
   "name": "python3"
  },
  "language_info": {
   "codemirror_mode": {
    "name": "ipython",
    "version": 3
   },
   "file_extension": ".py",
   "mimetype": "text/x-python",
   "name": "python",
   "nbconvert_exporter": "python",
   "pygments_lexer": "ipython3",
   "version": "3.10.6"
  }
 },
 "nbformat": 4,
 "nbformat_minor": 2
}
