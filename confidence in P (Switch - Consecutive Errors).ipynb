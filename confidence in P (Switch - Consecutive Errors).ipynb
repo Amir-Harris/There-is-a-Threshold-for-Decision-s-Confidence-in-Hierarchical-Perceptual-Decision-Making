{
 "cells": [
  {
   "cell_type": "code",
   "execution_count": 1,
   "metadata": {},
   "outputs": [],
   "source": [
    "import numpy as np\n",
    "import matplotlib.pyplot as plt\n",
    "from scipy import stats"
   ]
  },
  {
   "cell_type": "code",
   "execution_count": 2,
   "metadata": {},
   "outputs": [],
   "source": [
    "Coh_ans=np.load('Coh_ans.npy')\n",
    "RT=np.load('RT.npy')\n",
    "Switch=np.load('Switch (Zero-one).npy')\n",
    "motion=np.load('motion.npy')\n",
    "ans=np.load('Total_ans.npy')\n",
    "Coh=np.load('Coh.npy')\n",
    "Conf=np.load('Conf.npy')\n",
    "# ans2=np.load('total_answerI.npy')\n",
    "Envans=np.load('Envans.npy')\n",
    "envexp=np.load('envexp.npy')\n"
   ]
  },
  {
   "cell_type": "code",
   "execution_count": 4,
   "metadata": {},
   "outputs": [
    {
     "name": "stdout",
     "output_type": "stream",
     "text": [
      "[0 0 1 0 0 0 0]\n",
      "[ True False False False  True  True  True]\n",
      "[ 0.   3.2  3.2  3.2  3.2 51.2  0. ]\n",
      "[ 1  1 -1 -1 -1 -1 -1]\n",
      "[-1 -1 -1 -1 -1 -1 -1]\n"
     ]
    }
   ],
   "source": [
    "i=76-3\n",
    "j=76+4\n",
    "ans [i:j]\n",
    "print(Switch[i:j])\n",
    "print(ans [i:j])\n",
    "print(Coh [i:j])\n",
    "print(Envans [i:j])\n",
    "print(envexp [i:j])"
   ]
  },
  {
   "cell_type": "code",
   "execution_count": 7,
   "metadata": {},
   "outputs": [
    {
     "name": "stdout",
     "output_type": "stream",
     "text": [
      "switch 18 0.0\n",
      "switch 63 6.4\n",
      "2\n",
      "0\n"
     ]
    }
   ],
   "source": [
    "temp3R=[]\n",
    "for i in range (len(ans[0][:100])-1):\n",
    "    if (ans[0][i-3]==True and ans[0][i-2]==False and ans[0][i-1]==False and ans[0][i]==False and Switch[i+1]==1 ):\n",
    "        temp3R.append(Coh[0][i])\n",
    "        print('switch',i,Coh[0][i])\n",
    "temp3R=np.array(temp3R)\n",
    "print(len(temp3R))\n",
    "# temp\n",
    "temp13R=[]\n",
    "for i in range (len(ans[0][:100])-1):\n",
    "    if (ans[0][i-3]==True and ans[0][i-2]==False and ans[0][i-1]==False  and ans[0][i]==False and Switch[i-2]==0 and Switch[i-1]==0 and Switch[i]==0   and Switch[i+1]==0  ):\n",
    "        temp13R.append(Coh[0][i])\n",
    "        print(i,Coh[0][i])\n",
    "temp13R=np.array(temp13R)\n",
    "print(len(temp13R))\n",
    "# temp"
   ]
  },
  {
   "cell_type": "code",
   "execution_count": 5,
   "metadata": {},
   "outputs": [
    {
     "data": {
      "text/plain": [
       "913"
      ]
     },
     "execution_count": 5,
     "metadata": {},
     "output_type": "execute_result"
    }
   ],
   "source": [
    "temp1R=[]\n",
    "for i in range (len(ans )-1):\n",
    "    if (ans [i-1]==True and ans [i]==False and Switch[i+1]==1 ):\n",
    "        temp1R.append(RT [i])\n",
    "temp1R=np.array(temp1R)\n",
    "len(temp1R)\n",
    "# temp"
   ]
  },
  {
   "cell_type": "code",
   "execution_count": 6,
   "metadata": {},
   "outputs": [
    {
     "data": {
      "text/plain": [
       "1321"
      ]
     },
     "execution_count": 6,
     "metadata": {},
     "output_type": "execute_result"
    }
   ],
   "source": [
    "temp11R=[]\n",
    "for i in range (len(ans )-1):\n",
    "    if (ans [i-1]==True and ans [i]==False and Switch[i]==0 and Switch[i+1]==0 ):\n",
    "        temp11R.append(RT [i])\n",
    "temp11R=np.array(temp11R)\n",
    "len(temp11R)\n",
    "# temp"
   ]
  },
  {
   "cell_type": "code",
   "execution_count": 7,
   "metadata": {},
   "outputs": [
    {
     "data": {
      "text/plain": [
       "663"
      ]
     },
     "execution_count": 7,
     "metadata": {},
     "output_type": "execute_result"
    }
   ],
   "source": [
    "temp2R=[]\n",
    "hist2=[]\n",
    "for i in range (len(ans )-1):\n",
    "    ts=[]\n",
    "    if (ans [i-2]==True and ans [i-1]==False and ans [i]==False and Switch[i+1]==1 ):\n",
    "#         print(i , Coh [i])\n",
    "        temp2R.append(RT [i])\n",
    "        ts.append(RT [i-1])\n",
    "        ts.append(RT [i])\n",
    "        hist2.append(ts)\n",
    "temp2R=np.array(temp2R)\n",
    "len(hist2)\n",
    "# temp"
   ]
  },
  {
   "cell_type": "code",
   "execution_count": 8,
   "metadata": {},
   "outputs": [
    {
     "data": {
      "text/plain": [
       "217"
      ]
     },
     "execution_count": 8,
     "metadata": {},
     "output_type": "execute_result"
    }
   ],
   "source": [
    "temp12R=[]\n",
    "for i in range (len(ans )-1):\n",
    "    if (ans [i-2]==True and ans [i-1]==False  and ans [i]==False and Switch[i-1]==0 and Switch[i]==0  and Switch[i+1]==0):\n",
    "#         print(i , Coh [i])\n",
    "        temp12R.append(RT [i])\n",
    "temp12R=np.array(temp12R)\n",
    "len(temp12R)\n",
    "# temp"
   ]
  },
  {
   "cell_type": "code",
   "execution_count": 9,
   "metadata": {},
   "outputs": [
    {
     "data": {
      "text/plain": [
       "246"
      ]
     },
     "execution_count": 9,
     "metadata": {},
     "output_type": "execute_result"
    }
   ],
   "source": [
    "temp3R=[]\n",
    "hist3=[]\n",
    "for i in range (len(ans )-1):\n",
    "    ts=[]\n",
    "    if (ans [i-3]==True and ans [i-2]==False and ans [i-1]==False and ans [i]==False and Switch[i+1]==1 ):\n",
    "        temp3R.append(RT [i])\n",
    "        ts.append(RT [i-2])\n",
    "        ts.append(RT [i-1])\n",
    "        ts.append(RT [i])\n",
    "        hist3.append(ts)\n",
    "temp3R=np.array(temp3R)\n",
    "len(hist3)\n",
    "# temp"
   ]
  },
  {
   "cell_type": "code",
   "execution_count": 10,
   "metadata": {},
   "outputs": [
    {
     "data": {
      "text/plain": [
       "37"
      ]
     },
     "execution_count": 10,
     "metadata": {},
     "output_type": "execute_result"
    }
   ],
   "source": [
    "temp13R=[]\n",
    "for i in range (len(ans )-1):\n",
    "    if (ans [i-3]==True and ans [i-2]==False and ans [i-1]==False  and ans [i]==False and Switch[i-2]==0 and Switch[i-1]==0 and Switch[i]==0   and Switch[i+1]==0  ):\n",
    "        temp13R.append(RT [i])\n",
    "temp13R=np.array(temp13R)\n",
    "len(temp13R)\n",
    "# temp"
   ]
  },
  {
   "cell_type": "code",
   "execution_count": 20,
   "metadata": {},
   "outputs": [
    {
     "data": {
      "text/plain": [
       "96"
      ]
     },
     "execution_count": 20,
     "metadata": {},
     "output_type": "execute_result"
    }
   ],
   "source": [
    "temp4R=[]\n",
    "hist4=[]\n",
    "for i in range (len(ans )-1):\n",
    "    ts=[]\n",
    "    if (ans [i-4]==True and ans [i-3]==False and ans [i-2]==False and ans [i-1]==False and ans [i]==False and Switch[i+1]==1 ):\n",
    "        temp4R.append(RT [i])\n",
    "        ts.append(RT [i-3])\n",
    "        ts.append(RT [i-2])\n",
    "        ts.append(RT [i-1])\n",
    "        ts.append(RT [i])\n",
    "        hist4.append(ts)\n",
    "temp4R=np.array(temp4R)\n",
    "len(temp4R)\n",
    "# temp"
   ]
  },
  {
   "cell_type": "code",
   "execution_count": 25,
   "metadata": {},
   "outputs": [
    {
     "data": {
      "text/plain": [
       "8"
      ]
     },
     "execution_count": 25,
     "metadata": {},
     "output_type": "execute_result"
    }
   ],
   "source": [
    "temp14R=[]\n",
    "\n",
    "for i in range (len(ans )-1):\n",
    "    \n",
    "    if (ans [i-4]==True and ans [i-3]==False  and ans [i-2]==False and ans [i-1]==False  and ans [i]==False and Switch[i-3]==0 and Switch[i-2]==0 and Switch[i-1]==0 and Switch[i]==0   and Switch[i+1]==0 ):\n",
    "        temp14R.append(RT [i])\n",
    "temp14R=np.array(temp14R)\n",
    "len(temp14R)\n",
    "# temp"
   ]
  },
  {
   "cell_type": "code",
   "execution_count": 13,
   "metadata": {},
   "outputs": [
    {
     "data": {
      "text/plain": [
       "42"
      ]
     },
     "execution_count": 13,
     "metadata": {},
     "output_type": "execute_result"
    }
   ],
   "source": [
    "temp5R=[]\n",
    "hist5=[]\n",
    "for i in range (len(ans )-1):\n",
    "    ts=[]\n",
    "    if (ans [i-5]==True and ans [i-4]==False and ans [i-3]==False and ans [i-2]==False and ans [i-1]==False and ans [i]==False and Switch[i+1]==1 ):\n",
    "        temp5R.append(RT [i])\n",
    "        ts.append(RT [i-4])\n",
    "        ts.append(RT [i-3])\n",
    "        ts.append(RT [i-2])\n",
    "        ts.append(RT [i-1])\n",
    "        ts.append(RT [i])\n",
    "        hist5.append(ts)\n",
    "temp5R=np.array(temp5R)\n",
    "len(hist5)\n",
    "# temp"
   ]
  },
  {
   "cell_type": "code",
   "execution_count": 14,
   "metadata": {},
   "outputs": [
    {
     "data": {
      "text/plain": [
       "2"
      ]
     },
     "execution_count": 14,
     "metadata": {},
     "output_type": "execute_result"
    }
   ],
   "source": [
    "temp15R=[]\n",
    "for i in range (len(ans )-1):\n",
    "    if (ans [i-5]==True and ans [i-4]==False and ans [i-3]==False  and ans [i-2]==False and ans [i-1]==False  and ans [i]==False and Switch[i-4]==0 and Switch[i-3]==0 and Switch[i-2]==0 and Switch[i-1]==0 and Switch[i]==0   and Switch[i+1]==0 ):\n",
    "        temp15R.append(RT [i])\n",
    "temp15R=np.array(temp15R)\n",
    "len(temp15R)\n",
    "# temp"
   ]
  },
  {
   "cell_type": "code",
   "execution_count": 17,
   "metadata": {},
   "outputs": [
    {
     "data": {
      "text/plain": [
       "23"
      ]
     },
     "execution_count": 17,
     "metadata": {},
     "output_type": "execute_result"
    }
   ],
   "source": [
    "temp6R=[]\n",
    "hist6=[]\n",
    "for i in range (len(ans )-1):\n",
    "    ts=[]\n",
    "    if (ans [i-6]==True and ans [i-5]==False and ans [i-4]==False and ans [i-3]==False and ans [i-2]==False and ans [i-1]==False and ans [i]==False and Switch[i+1]==1 ):\n",
    "        temp6R.append(RT [i])\n",
    "        ts.append(RT [i-5])\n",
    "        ts.append(RT [i-4])\n",
    "        ts.append(RT [i-3])\n",
    "        ts.append(RT [i-2])\n",
    "        ts.append(RT [i-1])\n",
    "        ts.append(RT [i])\n",
    "        hist6.append(ts)\n",
    "temp6R=np.array(temp6R)\n",
    "len(hist6)\n",
    "# temp"
   ]
  },
  {
   "cell_type": "code",
   "execution_count": 18,
   "metadata": {},
   "outputs": [
    {
     "data": {
      "text/plain": [
       "0"
      ]
     },
     "execution_count": 18,
     "metadata": {},
     "output_type": "execute_result"
    }
   ],
   "source": [
    "temp16R=[]\n",
    "for i in range (len(ans )-1):\n",
    "    if (ans [i-6]==True and ans [i-5]==False  and ans [i-4]==False and ans [i-3]==False  and ans [i-2]==False and ans [i-1]==False  and ans [i]==False and Switch[i-5]==0  and Switch[i-4]==0 and Switch[i-3]==0 and Switch[i-2]==0 and Switch[i-1]==0 and Switch[i]==0   and Switch[i+1]==0 ):\n",
    "        temp16R.append(RT [i])\n",
    "temp16R=np.array(temp16R)\n",
    "len(temp16R)\n",
    "# temp"
   ]
  },
  {
   "cell_type": "code",
   "execution_count": 21,
   "metadata": {},
   "outputs": [],
   "source": [
    "Consective_errors=[]\n",
    "temp1=len(temp1R)/(len(temp1R)+len(temp11R))\n",
    "temp2=len(temp2R)/(len(temp2R)+len(temp12R))\n",
    "temp3=len(temp3R)/(len(temp3R)+len(temp13R))\n",
    "temp4=len(temp4R)/(len(temp4R)+len(temp14R))\n",
    "temp5=len(temp5R)/(len(temp5R)+len(temp15R))\n",
    "temp6=len(temp6R)/(len(temp6R)+len(temp16R))\n",
    "Consective_errors.append(temp1)\n",
    "Consective_errors.append(temp2)\n",
    "Consective_errors.append(temp3)\n",
    "Consective_errors.append(temp4)\n",
    "Consective_errors.append(temp5)\n",
    "Consective_errors.append(temp6)"
   ]
  },
  {
   "cell_type": "code",
   "execution_count": 22,
   "metadata": {},
   "outputs": [
    {
     "data": {
      "text/plain": [
       "<matplotlib.legend.Legend at 0x216bc3d56d8>"
      ]
     },
     "execution_count": 22,
     "metadata": {},
     "output_type": "execute_result"
    },
    {
     "data": {
      "image/png": "[encoded data removed]",
      "text/plain": [
       "<Figure size 432x288 with 1 Axes>"
      ]
     },
     "metadata": {
      "needs_background": "light"
     },
     "output_type": "display_data"
    }
   ],
   "source": [
    "\n",
    "plt.bar( [1],[(len(temp1R)+len(temp11R))],color = '#a6c7f9',label='Total 1-T')\n",
    "plt.bar( [2],[(len(temp2R)+len(temp12R))],color = '#88b5fa',label='Total 2-T')\n",
    "plt.bar( [3],[(len(temp3R)+len(temp13R))],color = '#6696de',label='Total 3-T')\n",
    "plt.bar( [4],[(len(temp4R)+len(temp14R))],color = '#5d83be',label='Total 4-T')\n",
    "plt.bar( [5],[(len(temp5R)+len(temp15R))],color = '#456699',label='Total 5-T')\n",
    "plt.bar( [6],[(len(temp6R)+len(temp16R))],color = '#222899',label='Total 6-T')\n",
    "plt.bar( [1],[len(temp1R)],color = '#111123',label='Switch 1-T')\n",
    "plt.bar( [2],[len(temp2R)],color = '#111123',label='Switch 2-T')\n",
    "plt.bar( [3],[len(temp3R)],color = '#111123',label='Switch 3-T')\n",
    "plt.bar( [4],[len(temp4R)],color = '#111123',label='Switch 4-T')\n",
    "plt.bar( [5],[len(temp5R)],color = '#111123',label='Switch 5-T')\n",
    "plt.bar( [6],[len(temp6R)],color = '#111123',label='Switch 6-T')\n",
    "# plt.axhline((970),c=\"r\",label='mean Switch')\n",
    "plt.suptitle('All  Subject')\n",
    "plt.ylabel('# of trials')\n",
    "plt.xlabel('Consecutive errors')\n",
    "plt.legend(loc=\"lower center\", bbox_to_anchor=(0.5, 1.15), ncol=2)"
   ]
  },
  {
   "cell_type": "code",
   "execution_count": 23,
   "metadata": {},
   "outputs": [
    {
     "name": "stdout",
     "output_type": "stream",
     "text": [
      "Switched in 1-T is : 913  & Total number of Trials (Switchd + Not Switched) is :  2234\n",
      "Switched in 2-T is : 663  & Total number of Trials (Switchd + Not Switched) is :  880\n",
      "Switched in 3-T is : 246  & Total number of Trials (Switchd + Not Switched) is :  283\n",
      "Switched in 4-T is : 96  & Total number of Trials (Switchd + Not Switched) is :  104\n",
      "Switched in 5-T is : 42  & Total number of Trials (Switchd + Not Switched) is :  44\n",
      "Switched in 6-T is : 23  & Total number of Trials (Switchd + Not Switched) is :  23\n"
     ]
    }
   ],
   "source": [
    "print('Switched in 1-T is :',len(temp1R), ' & Total number of Trials (Switchd + Not Switched) is : ',(len(temp1R)+len(temp11R)) )\n",
    "print('Switched in 2-T is :',len(temp2R), ' & Total number of Trials (Switchd + Not Switched) is : ',(len(temp2R)+len(temp12R)) )\n",
    "print('Switched in 3-T is :',len(temp3R), ' & Total number of Trials (Switchd + Not Switched) is : ',(len(temp3R)+len(temp13R)) )\n",
    "print('Switched in 4-T is :',len(temp4R), ' & Total number of Trials (Switchd + Not Switched) is : ',(len(temp4R)+len(temp14R)) )\n",
    "print('Switched in 5-T is :',len(temp5R), ' & Total number of Trials (Switchd + Not Switched) is : ',(len(temp5R)+len(temp15R)) )\n",
    "print('Switched in 6-T is :',len(temp6R), ' & Total number of Trials (Switchd + Not Switched) is : ',(len(temp6R)+len(temp16R)) )"
   ]
  },
  {
   "cell_type": "code",
   "execution_count": 24,
   "metadata": {},
   "outputs": [
    {
     "data": {
      "text/plain": [
       "[0.40868397493285585,\n",
       " 0.7534090909090909,\n",
       " 0.8692579505300353,\n",
       " 0.9230769230769231,\n",
       " 0.9545454545454546,\n",
       " 1.0]"
      ]
     },
     "execution_count": 24,
     "metadata": {},
     "output_type": "execute_result"
    }
   ],
   "source": [
    "Consective_errors"
   ]
  },
  {
   "cell_type": "code",
   "execution_count": 27,
   "metadata": {},
   "outputs": [],
   "source": [
    "axis=[]\n",
    "for i in range (0,6):\n",
    "    axis.append(i+1)"
   ]
  },
  {
   "cell_type": "code",
   "execution_count": 29,
   "metadata": {},
   "outputs": [
    {
     "data": {
      "text/plain": [
       "Text(0.5, 0, 'Trials')"
      ]
     },
     "execution_count": 29,
     "metadata": {},
     "output_type": "execute_result"
    },
    {
     "data": {
      "image/png": "[encoded data removed]",
      "text/plain": [
       "<Figure size 432x288 with 1 Axes>"
      ]
     },
     "metadata": {
      "needs_background": "light"
     },
     "output_type": "display_data"
    }
   ],
   "source": [
    "plt.plot(axis,Is,'--ro',color='#000000',label='Consecutive errors ISOLATED')\n",
    "# plt.plot(axis,LC,'--ro',color='#00b1ff',label='Consecutive errors LC')\n",
    "# plt.plot(axis,LA,'--ro',color='#ff1241',label='Consecutive errors LA')\n",
    "# plt.plot(axis,HC,'--ro',color='#0a77a8',label='Consecutive errors HC')\n",
    "# plt.plot(axis,HA,'--ro',color='#90172f',label='Consecutive errors HA')\n",
    "# plt.plot(axis,LC,'--ro',color='#9fd008',label='Consecutive errors LC')\n",
    "plt.suptitle('All  Subject')\n",
    "plt.legend()\n",
    "plt.ylabel('Choice probebility')\n",
    "plt.xlabel('Trials')"
   ]
  }
 ],
 "metadata": {
  "kernelspec": {
   "display_name": "Python 3 (ipykernel)",
   "language": "python",
   "name": "python3"
  },
  "language_info": {
   "codemirror_mode": {
    "name": "ipython",
    "version": 3
   },
   "file_extension": ".py",
   "mimetype": "text/x-python",
   "name": "python",
   "nbconvert_exporter": "python",
   "pygments_lexer": "ipython3",
   "version": "3.10.6"
  }
 },
 "nbformat": 4,
 "nbformat_minor": 4
}
