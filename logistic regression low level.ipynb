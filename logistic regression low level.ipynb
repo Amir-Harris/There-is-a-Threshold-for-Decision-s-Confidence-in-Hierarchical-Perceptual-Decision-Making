{
 "cells": [
  {
   "cell_type": "code",
   "execution_count": 1,
   "metadata": {},
   "outputs": [],
   "source": [
    "import matplotlib.pyplot as plt\n",
    "import numpy as np\n",
    "from scipy import io\n",
    "from sklearn.linear_model import LogisticRegression\n",
    "from sklearn.metrics import classification_report, confusion_matrix\n",
    "import statsmodels.api as sm"
   ]
  },
  {
   "cell_type": "code",
   "execution_count": 2,
   "metadata": {},
   "outputs": [],
   "source": [
    "# len(final_signals_right_true_total[0])\n",
    "ans_coh=np.load('Coh_ans.npy')\n",
    "Switch=np.load('Switch (Zero-one).npy')\n",
    "motion=np.load('motion.npy')\n",
    "Total_ans=np.load('Total_ans.npy')\n",
    "coh=np.load('Coh.npy')\n",
    "RT=np.load('RT.npy')\n",
    "Conf=np.load('Conf.npy')\n",
    "# motion=np.load('motion.npy')\n",
    "Envans=np.load('Envans.npy')\n",
    "envexp=np.load('envexp.npy')"
   ]
  },
  {
   "cell_type": "code",
   "execution_count": 3,
   "metadata": {},
   "outputs": [
    {
     "data": {
      "text/plain": [
       "10350"
      ]
     },
     "execution_count": 3,
     "metadata": {},
     "output_type": "execute_result"
    }
   ],
   "source": [
    "len(RT)"
   ]
  },
  {
   "cell_type": "code",
   "execution_count": 4,
   "metadata": {},
   "outputs": [
    {
     "name": "stdout",
     "output_type": "stream",
     "text": [
      "172\n",
      "0\n"
     ]
    }
   ],
   "source": [
    "print(len(Conf[Conf==-1]))\n",
    "import random\n",
    "conuter=0\n",
    "for i in range(len(Conf )):\n",
    "    \n",
    "    if (Conf [i]==-1):\n",
    "        Conf [i]=random.random()\n",
    "#         print(conuter)\n",
    "#     conuter=conuter+1\n",
    "print(len(Conf[Conf==-1]))"
   ]
  },
  {
   "cell_type": "code",
   "execution_count": 5,
   "metadata": {},
   "outputs": [
    {
     "name": "stdout",
     "output_type": "stream",
     "text": [
      "Accuracy pooled data in RDM is :  0.7908212560386474 %\n"
     ]
    },
    {
     "data": {
      "text/plain": [
       "2165"
      ]
     },
     "execution_count": 5,
     "metadata": {},
     "output_type": "execute_result"
    }
   ],
   "source": [
    "newans1=[]\n",
    "newans0=[]\n",
    "newcoh1=[]\n",
    "newcoh0=[]\n",
    "newConf1=[]\n",
    "newConf0=[]\n",
    "newRT1=[]\n",
    "newRT0=[]\n",
    "newmo1=[]\n",
    "newmo0=[]\n",
    "newI=[]\n",
    "\n",
    "pos=0\n",
    "neg=0\n",
    "for i in range(len(ans_coh )):\n",
    "#     and coh [i]!=0\n",
    "    if (ans_coh [i]==True ):\n",
    "#         newI.append(0)\n",
    "        newans1.append(1)\n",
    "        newcoh1.append(coh [i])\n",
    "        newConf1.append(Conf [i])\n",
    "        newRT1.append(RT [i])\n",
    "#         newmo1.append(motion [i])\n",
    "        pos=pos+1\n",
    "    elif(ans_coh [i]==False ):\n",
    "        newI.append(0)\n",
    "        newans0.append(0)\n",
    "        newcoh0.append(coh [i])\n",
    "        newConf0.append(Conf [i])\n",
    "        newRT0.append(RT [i])\n",
    "#         newmo0.append(motion [i])\n",
    "        neg=neg+1\n",
    "T=pos/(pos+neg)\n",
    "print('Accuracy pooled data in RDM is : ',T,'%')\n",
    "len(newI)"
   ]
  },
  {
   "cell_type": "code",
   "execution_count": 6,
   "metadata": {},
   "outputs": [],
   "source": [
    "newans1=np.array(newans1)\n",
    "newans0=np.array(newans0)\n",
    "newcoh1=np.array(newcoh1)\n",
    "newcoh0=np.array(newcoh0)\n",
    "newConf1=np.array(newConf1)\n",
    "newConf0=np.array(newConf0)\n",
    "newRT1=np.array(newRT1)\n",
    "newRT0=np.array(newRT0)\n",
    "newmo1=np.array(newmo1)\n",
    "newmo0=np.array(newmo0)\n",
    "newI=np.array(newI)\n"
   ]
  },
  {
   "cell_type": "code",
   "execution_count": 7,
   "metadata": {},
   "outputs": [
    {
     "data": {
      "text/plain": [
       "2165"
      ]
     },
     "execution_count": 7,
     "metadata": {},
     "output_type": "execute_result"
    }
   ],
   "source": [
    "len(newRT0)"
   ]
  },
  {
   "cell_type": "code",
   "execution_count": 18,
   "metadata": {},
   "outputs": [],
   "source": [
    "finalans=[]\n",
    "finalcoh=[]\n",
    "finalconf=[]\n",
    "finalrt=[]\n",
    "finalmo=[]\n",
    "finalSOI=[]\n",
    "for i in range (len(newRT1)):\n",
    "    finalans.append(newans1[i])\n",
    "    finalcoh.append(newcoh1[i])\n",
    "    finalconf.append(newConf1[i])\n",
    "    finalrt.append(newRT1[i])\n",
    "#     finalmo.append(newmo1[i])\n",
    "#     finalSOI.append(newI[i])\n",
    "    \n",
    "    \n",
    "for i in range (len(newRT0)):\n",
    "#     finalSOI.append(newI[i])\n",
    "    finalans.append(newans0[i])\n",
    "    finalcoh.append(newcoh0[i])\n",
    "    finalconf.append(newConf0[i])\n",
    "    finalrt.append(newRT0[i])\n",
    "#     finalmo.append(newmo0[i])\n",
    "    \n",
    "    \n",
    "# for i in range (len(newRT0s)):\n",
    "#     finalSOI.append(newS[i])\n",
    "#     finalans.append(newans1s[i])\n",
    "#     finalcoh.append(newcoh1s[i])\n",
    "#     finalconf.append(newConf1s[i])\n",
    "#     finalrt.append(newRT1s[i])\n",
    "#     finalmo.append(newmo1s[i])\n",
    "    \n",
    "    \n",
    "# for i in range (len(newRT0s)):\n",
    "#     finalSOI.append(newS[i])\n",
    "#     finalans.append(newans0s[i])\n",
    "#     finalcoh.append(newcoh0s[i])\n",
    "#     finalconf.append(newConf0s[i])\n",
    "#     finalrt.append(newRT0s[i])\n",
    "#     finalmo.append(newmo0s[i])\n"
   ]
  },
  {
   "cell_type": "code",
   "execution_count": 19,
   "metadata": {},
   "outputs": [],
   "source": [
    "finalans=np.array(finalans)\n",
    "finalcoh=np.array(finalcoh)\n",
    "finalconf=np.array(finalconf)\n",
    "finalrt=np.array(finalrt)\n",
    "finalmo=np.array(finalmo)\n",
    "finalSOI=np.array(finalSOI)"
   ]
  },
  {
   "cell_type": "code",
   "execution_count": 20,
   "metadata": {},
   "outputs": [
    {
     "data": {
      "text/plain": [
       "(10350,)"
      ]
     },
     "execution_count": 20,
     "metadata": {},
     "output_type": "execute_result"
    }
   ],
   "source": [
    "finalans.shape"
   ]
  },
  {
   "cell_type": "code",
   "execution_count": 21,
   "metadata": {},
   "outputs": [
    {
     "data": {
      "text/plain": [
       "array([1, 1, 1, ..., 0, 0, 0])"
      ]
     },
     "execution_count": 21,
     "metadata": {},
     "output_type": "execute_result"
    }
   ],
   "source": [
    "finalans"
   ]
  },
  {
   "cell_type": "code",
   "execution_count": 22,
   "metadata": {},
   "outputs": [
    {
     "data": {
      "text/plain": [
       "10350"
      ]
     },
     "execution_count": 22,
     "metadata": {},
     "output_type": "execute_result"
    }
   ],
   "source": [
    "len(finalans)"
   ]
  },
  {
   "cell_type": "code",
   "execution_count": 23,
   "metadata": {},
   "outputs": [
    {
     "name": "stdout",
     "output_type": "stream",
     "text": [
      "         coh      Conf     RT  ans_coh\n",
      "0      0.000  0.666812  1.507        1\n",
      "1      0.032  0.903335  0.996        1\n",
      "2      0.064  0.826738  0.712        1\n",
      "3      0.032  0.743872  1.075        1\n",
      "4      0.000  0.854029  1.020        1\n",
      "5      0.128  0.808544  0.914        1\n",
      "6      0.256  0.835835  0.888        1\n",
      "7      0.064  0.830559  0.726        1\n",
      "8      0.256  0.885141  0.659        1\n",
      "9      0.256  1.067081  0.693        1\n",
      "10     0.064  0.221058  1.198        1\n",
      "11     0.128  0.967014  0.795        1\n",
      "12     0.512  0.926805  0.748        1\n",
      "13     0.512  0.872223  0.796        1\n",
      "14     0.512  0.926805  0.989        1\n",
      "15     0.512  0.817641  0.758        1\n",
      "16     0.064  0.812365  0.964        1\n",
      "17     0.000  0.521260  1.261        1\n",
      "18     0.000  0.430289  1.329        1\n",
      "19     0.256  1.021596  0.969        1\n",
      "20     0.128  0.872223  0.994        1\n",
      "21     0.032  0.954096  1.257        1\n",
      "22     0.032  0.763059  0.825        1\n",
      "23     0.512  0.848753  0.919        1\n",
      "24     0.128  0.826738  0.959        1\n",
      "25     0.064  0.307617  0.722        1\n",
      "26     0.256  0.963193  1.117        1\n",
      "27     0.064  0.572021  0.753        1\n",
      "28     0.128  0.748685  1.138        1\n",
      "29     0.032  0.812365  0.844        1\n",
      "...      ...       ...    ...      ...\n",
      "10320  0.064  0.243871  2.115        0\n",
      "10321  0.064  0.479577  3.519        0\n",
      "10322  0.032  0.092821  2.933        0\n",
      "10323  0.032  0.684343  1.805        0\n",
      "10324  0.000  0.179412  3.338        0\n",
      "10325  0.000  0.511807  1.567        0\n",
      "10326  0.064  1.038224  3.879        0\n",
      "10327  0.064  0.694441  1.334        0\n",
      "10328  0.032  0.006876  1.580        0\n",
      "10329  0.000  0.307686  2.031        0\n",
      "10330  0.032  0.576266  1.448        0\n",
      "10331  0.000  0.695086  1.036        0\n",
      "10332  0.000  0.243871  1.487        0\n",
      "10333  0.064  0.264713  1.211        0\n",
      "10334  0.032  0.447348  1.373        0\n",
      "10335  0.256  0.265357  1.717        0\n",
      "10336  0.000  0.576266  0.934        0\n",
      "10337  0.032  0.533938  1.574        0\n",
      "10338  0.000  0.253970  1.753        0\n",
      "10339  0.000  0.684343  1.357        0\n",
      "10340  0.064  0.695086  1.265        0\n",
      "10341  0.032  0.554780  0.931        0\n",
      "10342  0.000  0.264713  1.293        0\n",
      "10343  0.000  0.265357  1.109        0\n",
      "10344  0.064  0.426506  2.442        0\n",
      "10345  0.032  0.393631  2.338        0\n",
      "10346  0.000  0.221740  1.947        0\n",
      "10347  0.032  0.587654  1.379        0\n",
      "10348  0.064  0.512451  2.245        0\n",
      "10349  0.032  0.576911  1.323        0\n",
      "\n",
      "[10350 rows x 4 columns]\n"
     ]
    }
   ],
   "source": [
    "import pandas as pd\n",
    "candidates = {'coh': finalcoh/100,\n",
    "              'Conf':finalconf ,\n",
    "              'RT': finalrt/1000,\n",
    "#               'motion': finalmo/180,\n",
    "#               'SorI': finalSOI,\n",
    "              'ans_coh': finalans\n",
    "              }\n",
    "\n",
    "df = pd.DataFrame(candidates,columns= ['coh', 'Conf','RT','ans_coh'])\n",
    "print (df)"
   ]
  },
  {
   "cell_type": "code",
   "execution_count": 36,
   "metadata": {},
   "outputs": [
    {
     "name": "stdout",
     "output_type": "stream",
     "text": [
      "2588\n",
      "7762\n",
      "Accuracy:  0.7747295208655333\n"
     ]
    },
    {
     "name": "stderr",
     "output_type": "stream",
     "text": [
      "C:\\Users\\Dexter\\Anaconda3\\lib\\site-packages\\sklearn\\linear_model\\logistic.py:433: FutureWarning: Default solver will be changed to 'lbfgs' in 0.22. Specify a solver to silence this warning.\n",
      "  FutureWarning)\n"
     ]
    },
    {
     "data": {
      "image/png": "[encoded data removed]",
      "text/plain": [
       "<Figure size 432x288 with 2 Axes>"
      ]
     },
     "metadata": {
      "needs_background": "light"
     },
     "output_type": "display_data"
    }
   ],
   "source": [
    "import pandas as pd\n",
    "from sklearn.model_selection import train_test_split\n",
    "from sklearn.linear_model import LogisticRegression\n",
    "from sklearn import metrics\n",
    "import seaborn as sn\n",
    "import matplotlib.pyplot as plt\n",
    "\n",
    "# candidates = {'gmat': [780,750,690,710,680,730,690,720,740,690,610,690,710,680,770,610,580,650,540,590,620,600,550,550,570,670,660,580,650,660,640,620,660,660,680,650,670,580,590,690],\n",
    "#               'gpa': [4,3.9,3.3,3.7,3.9,3.7,2.3,3.3,3.3,1.7,2.7,3.7,3.7,3.3,3.3,3,2.7,3.7,2.7,2.3,3.3,2,2.3,2.7,3,3.3,3.7,2.3,3.7,3.3,3,2.7,4,3.3,3.3,2.3,2.7,3.3,1.7,3.7],\n",
    "#               'work_experience': [3,4,3,5,4,6,1,4,5,1,3,5,6,4,3,1,4,6,2,3,2,1,4,1,2,6,4,2,6,5,1,2,4,6,5,1,2,1,4,5],\n",
    "#               'admitted': [1,1,0,1,0,1,0,1,1,0,0,1,1,0,1,0,0,1,0,0,1,0,0,0,0,1,1,0,1,1,0,0,1,1,1,0,0,0,0,1]\n",
    "#               }\n",
    "\n",
    "# df = pd.DataFrame(candidates,columns= ['gmat', 'gpa','work_experience','admitted'])\n",
    "\n",
    "#print (df)\n",
    "\n",
    "X = df[['coh', 'Conf']]\n",
    "y = df['ans_coh']\n",
    "\n",
    "X_train,X_test,y_train,y_test = train_test_split(X,y,test_size=0.25,random_state=0)\n",
    "print(len(y_test))\n",
    "print(len(y_train))\n",
    "logistic_regression= LogisticRegression()\n",
    "logistic_regression.fit(X_train,y_train)\n",
    "y_pred=logistic_regression.predict(X_test)\n",
    "\n",
    "confusion_matrix = pd.crosstab(y_test, y_pred, rownames=['Actual'], colnames=['Predicted'])\n",
    "sn.heatmap(confusion_matrix, annot=True)\n",
    "\n",
    "print('Accuracy: ',metrics.accuracy_score(y_test, y_pred))\n",
    "plt.show()"
   ]
  },
  {
   "cell_type": "code",
   "execution_count": 37,
   "metadata": {},
   "outputs": [
    {
     "data": {
      "text/plain": [
       "array([[11.85159405,  1.23840437]])"
      ]
     },
     "execution_count": 37,
     "metadata": {},
     "output_type": "execute_result"
    }
   ],
   "source": [
    "logistic_regression.coef_"
   ]
  },
  {
   "cell_type": "code",
   "execution_count": 38,
   "metadata": {},
   "outputs": [
    {
     "data": {
      "text/plain": [
       "array([-0.36747263])"
      ]
     },
     "execution_count": 38,
     "metadata": {},
     "output_type": "execute_result"
    }
   ],
   "source": [
    "logistic_regression.intercept_"
   ]
  },
  {
   "cell_type": "code",
   "execution_count": null,
   "metadata": {},
   "outputs": [],
   "source": []
  },
  {
   "cell_type": "code",
   "execution_count": 39,
   "metadata": {},
   "outputs": [
    {
     "name": "stdout",
     "output_type": "stream",
     "text": [
      "const     4.300512e-13\n",
      "coh      1.620588e-125\n",
      "Conf      1.853385e-19\n",
      "dtype: float64\n"
     ]
    },
    {
     "name": "stderr",
     "output_type": "stream",
     "text": [
      "C:\\Users\\Dexter\\Anaconda3\\lib\\site-packages\\numpy\\core\\fromnumeric.py:2389: FutureWarning: Method .ptp is deprecated and will be removed in a future version. Use numpy.ptp instead.\n",
      "  return ptp(axis=axis, out=out, **kwargs)\n"
     ]
    },
    {
     "data": {
      "text/html": [
       "<table class=\"simpletable\">\n",
       "<caption>Logit Regression Results</caption>\n",
       "<tr>\n",
       "  <th>Dep. Variable:</th>      <td>ans_coh</td>     <th>  No. Observations:  </th>  <td>  7762</td> \n",
       "</tr>\n",
       "<tr>\n",
       "  <th>Model:</th>               <td>Logit</td>      <th>  Df Residuals:      </th>  <td>  7759</td> \n",
       "</tr>\n",
       "<tr>\n",
       "  <th>Method:</th>               <td>MLE</td>       <th>  Df Model:          </th>  <td>     2</td> \n",
       "</tr>\n",
       "<tr>\n",
       "  <th>Date:</th>          <td>Wed, 27 Oct 2021</td> <th>  Pseudo R-squ.:     </th>  <td>0.2558</td> \n",
       "</tr>\n",
       "<tr>\n",
       "  <th>Time:</th>              <td>08:45:13</td>     <th>  Log-Likelihood:    </th> <td> -2925.0</td>\n",
       "</tr>\n",
       "<tr>\n",
       "  <th>converged:</th>           <td>True</td>       <th>  LL-Null:           </th> <td> -3930.3</td>\n",
       "</tr>\n",
       "<tr>\n",
       "  <th> </th>                      <td> </td>        <th>  LLR p-value:       </th>  <td> 0.000</td> \n",
       "</tr>\n",
       "</table>\n",
       "<table class=\"simpletable\">\n",
       "<tr>\n",
       "    <td></td>       <th>coef</th>     <th>std err</th>      <th>z</th>      <th>P>|z|</th>  <th>[0.025</th>    <th>0.975]</th>  \n",
       "</tr>\n",
       "<tr>\n",
       "  <th>const</th> <td>   -0.5019</td> <td>    0.069</td> <td>   -7.246</td> <td> 0.000</td> <td>   -0.638</td> <td>   -0.366</td>\n",
       "</tr>\n",
       "<tr>\n",
       "  <th>coh</th>   <td>   16.3045</td> <td>    0.684</td> <td>   23.830</td> <td> 0.000</td> <td>   14.963</td> <td>   17.645</td>\n",
       "</tr>\n",
       "<tr>\n",
       "  <th>Conf</th>  <td>    1.0851</td> <td>    0.120</td> <td>    9.022</td> <td> 0.000</td> <td>    0.849</td> <td>    1.321</td>\n",
       "</tr>\n",
       "</table>"
      ],
      "text/plain": [
       "<class 'statsmodels.iolib.summary.Summary'>\n",
       "\"\"\"\n",
       "                           Logit Regression Results                           \n",
       "==============================================================================\n",
       "Dep. Variable:                ans_coh   No. Observations:                 7762\n",
       "Model:                          Logit   Df Residuals:                     7759\n",
       "Method:                           MLE   Df Model:                            2\n",
       "Date:                Wed, 27 Oct 2021   Pseudo R-squ.:                  0.2558\n",
       "Time:                        08:45:13   Log-Likelihood:                -2925.0\n",
       "converged:                       True   LL-Null:                       -3930.3\n",
       "                                        LLR p-value:                     0.000\n",
       "==============================================================================\n",
       "                 coef    std err          z      P>|z|      [0.025      0.975]\n",
       "------------------------------------------------------------------------------\n",
       "const         -0.5019      0.069     -7.246      0.000      -0.638      -0.366\n",
       "coh           16.3045      0.684     23.830      0.000      14.963      17.645\n",
       "Conf           1.0851      0.120      9.022      0.000       0.849       1.321\n",
       "==============================================================================\n",
       "\"\"\""
      ]
     },
     "execution_count": 39,
     "metadata": {},
     "output_type": "execute_result"
    }
   ],
   "source": [
    " import statsmodels.api as sm\n",
    "\n",
    "sm_model = sm.Logit(y_train, sm.add_constant(X_train)).fit(disp=0)\n",
    "print(sm_model.pvalues)\n",
    "sm_model.summary()"
   ]
  },
  {
   "cell_type": "code",
   "execution_count": 37,
   "metadata": {},
   "outputs": [],
   "source": [
    "pred=logistic_regression.predict(X)"
   ]
  },
  {
   "cell_type": "code",
   "execution_count": 38,
   "metadata": {},
   "outputs": [
    {
     "data": {
      "text/plain": [
       "array([[0.20296182, 0.79703818],\n",
       "       [0.81172223, 0.18827777],\n",
       "       [0.56700622, 0.43299378],\n",
       "       ...,\n",
       "       [0.57938587, 0.42061413],\n",
       "       [0.54722596, 0.45277404],\n",
       "       [0.75799118, 0.24200882]])"
      ]
     },
     "execution_count": 38,
     "metadata": {},
     "output_type": "execute_result"
    }
   ],
   "source": [
    "logistic_regression.predict_proba(X)"
   ]
  }
 ],
 "metadata": {
  "kernelspec": {
   "display_name": "Python 3",
   "language": "python",
   "name": "python3"
  },
  "language_info": {
   "codemirror_mode": {
    "name": "ipython",
    "version": 3
   },
   "file_extension": ".py",
   "mimetype": "text/x-python",
   "name": "python",
   "nbconvert_exporter": "python",
   "pygments_lexer": "ipython3",
   "version": "3.7.3"
  }
 },
 "nbformat": 4,
 "nbformat_minor": 2
}
